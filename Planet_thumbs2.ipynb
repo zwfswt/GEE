{
  "nbformat": 4,
  "nbformat_minor": 0,
  "metadata": {
    "colab": {
      "name": "Planet_thumbs2.ipynb",
      "provenance": [],
      "collapsed_sections": [],
      "authorship_tag": "ABX9TyNoVkOwxYVjvfl7tBmbiiFE",
      "include_colab_link": true
    },
    "kernelspec": {
      "name": "python3",
      "display_name": "Python 3"
    },
    "language_info": {
      "name": "python"
    }
  },
  "cells": [
    {
      "cell_type": "markdown",
      "metadata": {
        "id": "view-in-github",
        "colab_type": "text"
      },
      "source": [
        "<a href=\"https://colab.research.google.com/github/zwfswt/GEE/blob/main/Planet_thumbs2.ipynb\" target=\"_parent\"><img src=\"https://colab.research.google.com/assets/colab-badge.svg\" alt=\"Open In Colab\"/></a>"
      ]
    },
    {
      "cell_type": "code",
      "execution_count": 1,
      "metadata": {
        "id": "-KzRmm2B3sbP",
        "colab": {
          "base_uri": "https://localhost:8080/"
        },
        "outputId": "952e9afa-d990-4a2b-a650-2fcf8a494b90"
      },
      "outputs": [
        {
          "output_type": "stream",
          "name": "stdout",
          "text": [
            "Collecting planet\n",
            "  Downloading planet-1.4.9-py2.py3-none-any.whl (55 kB)\n",
            "\u001b[?25l\r\u001b[K     |█████▉                          | 10 kB 18.9 MB/s eta 0:00:01\r\u001b[K     |███████████▊                    | 20 kB 10.4 MB/s eta 0:00:01\r\u001b[K     |█████████████████▋              | 30 kB 8.6 MB/s eta 0:00:01\r\u001b[K     |███████████████████████▌        | 40 kB 7.8 MB/s eta 0:00:01\r\u001b[K     |█████████████████████████████▍  | 51 kB 4.9 MB/s eta 0:00:01\r\u001b[K     |████████████████████████████████| 55 kB 1.1 MB/s \n",
            "\u001b[?25hRequirement already satisfied: click in /usr/local/lib/python3.7/dist-packages (from planet) (7.1.2)\n",
            "Collecting requests-futures==0.9.7\n",
            "  Downloading requests-futures-0.9.7.tar.gz (5.6 kB)\n",
            "Requirement already satisfied: requests in /usr/local/lib/python3.7/dist-packages (from planet) (2.23.0)\n",
            "Requirement already satisfied: chardet<4,>=3.0.2 in /usr/local/lib/python3.7/dist-packages (from requests->planet) (3.0.4)\n",
            "Requirement already satisfied: idna<3,>=2.5 in /usr/local/lib/python3.7/dist-packages (from requests->planet) (2.10)\n",
            "Requirement already satisfied: urllib3!=1.25.0,!=1.25.1,<1.26,>=1.21.1 in /usr/local/lib/python3.7/dist-packages (from requests->planet) (1.24.3)\n",
            "Requirement already satisfied: certifi>=2017.4.17 in /usr/local/lib/python3.7/dist-packages (from requests->planet) (2021.10.8)\n",
            "Building wheels for collected packages: requests-futures\n",
            "  Building wheel for requests-futures (setup.py) ... \u001b[?25l\u001b[?25hdone\n",
            "  Created wheel for requests-futures: filename=requests_futures-0.9.7-py3-none-any.whl size=5073 sha256=2fcc1c6e8f2e8e36faf97d40bca2ddc60076a0e84d5f1f5d4c9c200be1c77b29\n",
            "  Stored in directory: /root/.cache/pip/wheels/09/59/e0/d5725c111058931dcb914bd3fa226f7a52d419de101dda4264\n",
            "Successfully built requests-futures\n",
            "Installing collected packages: requests-futures, planet\n",
            "Successfully installed planet-1.4.9 requests-futures-0.9.7\n"
          ]
        }
      ],
      "source": [
        "!pip install planet"
      ]
    },
    {
      "cell_type": "code",
      "source": [
        "from planet import api\n",
        "import requests"
      ],
      "metadata": {
        "id": "EpZo9sUijto9"
      },
      "execution_count": 2,
      "outputs": []
    },
    {
      "cell_type": "code",
      "source": [
        "client = api.ClientV1(api_key=\"PLAK9948855dd01246448636bc5229a3ec73\")"
      ],
      "metadata": {
        "id": "OAcEdso3jtsT"
      },
      "execution_count": 3,
      "outputs": []
    },
    {
      "cell_type": "code",
      "source": [
        "import json\n",
        "def p(data):\n",
        "    print(json.dumps(data, indent=2))"
      ],
      "metadata": {
        "id": "Jzzb2Ql3jtvd"
      },
      "execution_count": 4,
      "outputs": []
    },
    {
      "cell_type": "code",
      "source": [
        "from pydrive.auth import GoogleAuth\n",
        "from pydrive.drive import GoogleDrive\n",
        "from google.colab import auth\n",
        "from oauth2client.client import GoogleCredentials\n",
        "from google.colab import files,drive\n",
        "drive.mount('/content/drive',force_remount=True)"
      ],
      "metadata": {
        "colab": {
          "base_uri": "https://localhost:8080/"
        },
        "id": "Wivhl-ncjtyk",
        "outputId": "623b885e-21be-404e-8732-e3fe10e788fc"
      },
      "execution_count": 5,
      "outputs": [
        {
          "output_type": "stream",
          "name": "stdout",
          "text": [
            "Mounted at /content/drive\n"
          ]
        }
      ]
    },
    {
      "cell_type": "code",
      "source": [
        "import os\n",
        "path = \"/content/drive/My Drive/Planet\"\n",
        "os.chdir(path)"
      ],
      "metadata": {
        "id": "5WXlItJrjt1c"
      },
      "execution_count": 6,
      "outputs": []
    },
    {
      "cell_type": "code",
      "source": [
        "!ls"
      ],
      "metadata": {
        "colab": {
          "base_uri": "https://localhost:8080/"
        },
        "id": "Rej0fLkljt4V",
        "outputId": "a6f15486-d9c8-4c46-9370-04f2f5bd7a5b"
      },
      "execution_count": 15,
      "outputs": [
        {
          "output_type": "stream",
          "name": "stdout",
          "text": [
            "example1.geojson  example2.geojson  example.geojson\n"
          ]
        }
      ]
    },
    {
      "cell_type": "code",
      "source": [
        "aoi = {\n",
        "  \"type\": \"Polygon\",\n",
        "  \"coordinates\": [\n",
        "    [\n",
        "      [120.699216,32.169942],\n",
        "      [120.699216,33.854232],\n",
        "      [122.70791,33.854232],\n",
        "      [122.70791,32.169942],\n",
        "      [120.699216,32.169942]\n",
        "    ]\n",
        "  ]\n",
        "}"
      ],
      "metadata": {
        "id": "96X0kG-pjt66"
      },
      "execution_count": 8,
      "outputs": []
    },
    {
      "cell_type": "code",
      "source": [
        "from planet.api import filters"
      ],
      "metadata": {
        "id": "gQClFjy8jt-D"
      },
      "execution_count": 16,
      "outputs": []
    },
    {
      "cell_type": "code",
      "source": [
        "from datetime import datetime\n",
        "geometry_filter=filters.geom_filter(aoi)\n",
        "start_date = datetime(year=2022, month=5, day=3)\n",
        "end_date = datetime(year=2022, month=5, day=3)\n",
        "date_filter = filters.date_range('acquired', gte=start_date,lte=end_date)\n",
        "cloud_filter = filters.range_filter('cloud_cover', lte=0.5)\n"
      ],
      "metadata": {
        "id": "Rbg0I9jTjuA6"
      },
      "execution_count": 17,
      "outputs": []
    },
    {
      "cell_type": "code",
      "source": [
        "and_filter = filters.and_filter(geometry_filter,date_filter, cloud_filter)"
      ],
      "metadata": {
        "id": "SfetONRejuEB"
      },
      "execution_count": 18,
      "outputs": []
    },
    {
      "cell_type": "code",
      "source": [
        "# item_types = [\"REOrthoTile\", \"PSOrthoTile\"]\n",
        "item_types = [\"PSScene\"]\n",
        "request = filters.build_search_request(and_filter, item_types)"
      ],
      "metadata": {
        "id": "XMBD83mzjuG4"
      },
      "execution_count": 19,
      "outputs": []
    },
    {
      "cell_type": "code",
      "source": [
        "results = client.quick_search(request)"
      ],
      "metadata": {
        "id": "vIVu0UWijuKT"
      },
      "execution_count": 20,
      "outputs": []
    },
    {
      "cell_type": "code",
      "source": [
        "from IPython.display import display, Image\n",
        "filenames = []\n",
        "NUM_THUMBNAILS = 100\n",
        "IMAGE_WIDTH = 2048\n",
        "for item in results.items_iter(NUM_THUMBNAILS):\n",
        "    thumbnail_url = item['_links']['thumbnail']\n",
        "    # assets = client.get_assets(item).get()\n",
        "    \n",
        "    # print(thumbnail_url)\n",
        "    # response = requests.get(\n",
        "    #     thumbnail_url,params=dict(width=IMAGE_WIDTH)\n",
        "    # )\n",
        "    api_key=\"PLAK9948855dd01246448636bc5229a3ec73\"\n",
        "    response = requests.get(thumbnail_url,auth=(api_key, ''),params=dict(width=IMAGE_WIDTH))\n",
        "    # print(response.content)\n",
        "\n",
        "    filename = '_'.join(\n",
        "        [item['id'], item['properties']['item_type'],]\n",
        "    )\n",
        "    filename += '.png'\n",
        "    with open(filename, 'wb') as f:\n",
        "        f.write(response.content)\n",
        "    filenames.append(filename)\n",
        "    print(filename)\n",
        "    display(Image(filename=filename,width = 300, height = 300))"
      ],
      "metadata": {
        "id": "C29YFkcKkGo_"
      },
      "execution_count": 14,
      "outputs": []
    },
    {
      "cell_type": "code",
      "source": [
        ""
      ],
      "metadata": {
        "id": "RT3VFKMfkGr1"
      },
      "execution_count": null,
      "outputs": []
    },
    {
      "cell_type": "code",
      "source": [
        ""
      ],
      "metadata": {
        "id": "H96LPrmJkGur"
      },
      "execution_count": null,
      "outputs": []
    },
    {
      "cell_type": "code",
      "source": [
        ""
      ],
      "metadata": {
        "id": "df_CFbXwkGxl"
      },
      "execution_count": null,
      "outputs": []
    },
    {
      "cell_type": "code",
      "source": [
        ""
      ],
      "metadata": {
        "id": "-tj2qMdDkG0K"
      },
      "execution_count": null,
      "outputs": []
    },
    {
      "cell_type": "code",
      "source": [
        ""
      ],
      "metadata": {
        "id": "BEcfgq5ykG3D"
      },
      "execution_count": null,
      "outputs": []
    },
    {
      "cell_type": "code",
      "source": [
        ""
      ],
      "metadata": {
        "id": "pY4xnh_pkG5n"
      },
      "execution_count": null,
      "outputs": []
    },
    {
      "cell_type": "code",
      "source": [
        ""
      ],
      "metadata": {
        "id": "-_c_W3XPkG8h"
      },
      "execution_count": null,
      "outputs": []
    },
    {
      "cell_type": "code",
      "source": [
        ""
      ],
      "metadata": {
        "id": "1jZtGySBkG_Z"
      },
      "execution_count": null,
      "outputs": []
    },
    {
      "cell_type": "code",
      "source": [
        ""
      ],
      "metadata": {
        "id": "dAnY19ZCjuNu"
      },
      "execution_count": null,
      "outputs": []
    }
  ]
}