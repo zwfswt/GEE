{
  "nbformat": 4,
  "nbformat_minor": 0,
  "metadata": {
    "colab": {
      "name": "Planet_Setup.ipynb",
      "provenance": [],
      "collapsed_sections": [],
      "authorship_tag": "ABX9TyN+Obmx5WCw9O/H3bib2lOT",
      "include_colab_link": true
    },
    "kernelspec": {
      "name": "python3",
      "display_name": "Python 3"
    },
    "language_info": {
      "name": "python"
    }
  },
  "cells": [
    {
      "cell_type": "markdown",
      "metadata": {
        "id": "view-in-github",
        "colab_type": "text"
      },
      "source": [
        "<a href=\"https://colab.research.google.com/github/zwfswt/GEE/blob/main/Planet_Setup.ipynb\" target=\"_parent\"><img src=\"https://colab.research.google.com/assets/colab-badge.svg\" alt=\"Open In Colab\"/></a>"
      ]
    },
    {
      "cell_type": "code",
      "execution_count": 29,
      "metadata": {
        "colab": {
          "base_uri": "https://localhost:8080/"
        },
        "id": "StsbgV3EhSSq",
        "outputId": "17d69581-98dd-4c79-ea81-458f3b9a3e51"
      },
      "outputs": [
        {
          "output_type": "stream",
          "name": "stdout",
          "text": [
            "Requirement already satisfied: planet in /usr/local/lib/python3.7/dist-packages (1.4.9)\n",
            "Requirement already satisfied: click in /usr/local/lib/python3.7/dist-packages (from planet) (7.1.2)\n",
            "Requirement already satisfied: requests-futures==0.9.7 in /usr/local/lib/python3.7/dist-packages (from planet) (0.9.7)\n",
            "Requirement already satisfied: requests in /usr/local/lib/python3.7/dist-packages (from planet) (2.23.0)\n",
            "Requirement already satisfied: certifi>=2017.4.17 in /usr/local/lib/python3.7/dist-packages (from requests->planet) (2021.10.8)\n",
            "Requirement already satisfied: idna<3,>=2.5 in /usr/local/lib/python3.7/dist-packages (from requests->planet) (2.10)\n",
            "Requirement already satisfied: urllib3!=1.25.0,!=1.25.1,<1.26,>=1.21.1 in /usr/local/lib/python3.7/dist-packages (from requests->planet) (1.24.3)\n",
            "Requirement already satisfied: chardet<4,>=3.0.2 in /usr/local/lib/python3.7/dist-packages (from requests->planet) (3.0.4)\n"
          ]
        }
      ],
      "source": [
        "!pip install planet"
      ]
    },
    {
      "cell_type": "code",
      "source": [
        "!planet --help "
      ],
      "metadata": {
        "colab": {
          "base_uri": "https://localhost:8080/"
        },
        "id": "1vcZnNHShnTz",
        "outputId": "289b310e-6ecc-4c1e-863f-2727476ba41c"
      },
      "execution_count": 30,
      "outputs": [
        {
          "output_type": "stream",
          "name": "stdout",
          "text": [
            "Usage: planet [OPTIONS] COMMAND [ARGS]...\n",
            "\n",
            "  Planet API Client\n",
            "\n",
            "Options:\n",
            "  -w, --workers INTEGER  The number of concurrent\n",
            "                         downloads when requesting\n",
            "                         multiple scenes. -\n",
            "                         Default 4\n",
            "\n",
            "  -v, --verbose          Specify verbosity\n",
            "  -k, --api-key TEXT     Valid API key - or via\n",
            "                         ENV variable PL_API_KEY\n",
            "\n",
            "  -u, --base-url TEXT    Change the base Planet\n",
            "                         API URL or ENV\n",
            "                         PL_API_BASE_URL - Default\n",
            "                         https://api.planet.com/\n",
            "\n",
            "  --version              Show the version and\n",
            "                         exit.\n",
            "\n",
            "  --help                 Show this message and\n",
            "                         exit.\n",
            "\n",
            "\n",
            "Commands:\n",
            "  analytics  Commands for interacting with the...\n",
            "  data       Commands for interacting with the...\n",
            "  help       Get command help\n",
            "  init       Login using email/password\n",
            "  mosaics    Commands for interacting with the...\n",
            "  orders     Commands for interacting with the...\n"
          ]
        }
      ]
    },
    {
      "cell_type": "markdown",
      "source": [
        "Usage: planet [OPTIONS] COMMAND [ARGS]...\n",
        "planet 选项 命令行 参数\n",
        "选项如下：\n",
        "Options:\n",
        "  -w, --workers INTEGER  The number of concurrent\n",
        "  -w --workers 整数，并发数量\n",
        "  -v, --verbose 冗长  Specify verbosity  指定冗长\n",
        "  -k, --api-key TEXT api-key 文本    Valid API key - or via\n",
        "  有效的API密钥-或通过\n",
        "  ENV variable PL_API_KEY\n",
        "\n",
        "  -u, --base-url TEXT 基础url   Change the base Planet\n",
        "                         API URL or ENV\n",
        "                         PL_API_BASE_URL - Default\n",
        "                         https://api.planet.com/\n",
        "  --version 版本  Show the version and exit.\n",
        "  --help  帮助   Show this message and exit.\n",
        "命令行\n",
        "Commands:\n",
        "  analytics  Commands for interacting with the...\n",
        "  分析  交互命令\n",
        "  data       Commands for interacting with the...\n",
        "  数据\n",
        "  help       Get command help\n",
        "  得到帮助\n",
        "  init       Login using email/password\n",
        "  使用邮箱/密码登录\n",
        "  mosaics    Commands for interacting with the...\n",
        "  镶嵌\n",
        "  orders     Commands for interacting with the...\n",
        "  命令"
      ],
      "metadata": {
        "id": "wcSMafwlht5O"
      }
    },
    {
      "cell_type": "code",
      "source": [
        "from pydrive.auth import GoogleAuth\n",
        "from pydrive.drive import GoogleDrive\n",
        "from google.colab import auth\n",
        "# GoogleCredentials 凭证\n",
        "from oauth2client.client import GoogleCredentials\n",
        "from google.colab import files,drive\n",
        "# mount 挂载\n",
        "drive.mount('/content/drive',force_remount=True)\n",
        "\n"
      ],
      "metadata": {
        "colab": {
          "base_uri": "https://localhost:8080/"
        },
        "id": "9EZ8fIlThnbW",
        "outputId": "ad7e1fec-7835-462c-b281-916953445c53"
      },
      "execution_count": 18,
      "outputs": [
        {
          "output_type": "stream",
          "name": "stdout",
          "text": [
            "Mounted at /content/drive\n"
          ]
        }
      ]
    },
    {
      "cell_type": "code",
      "source": [
        "!ls \"/content/drive/My Drive/Planet\""
      ],
      "metadata": {
        "id": "ffrMih8UhneH"
      },
      "execution_count": 22,
      "outputs": []
    },
    {
      "cell_type": "code",
      "source": [
        "!cat \"/content/drive/My Drive/Planet/example.geojson\""
      ],
      "metadata": {
        "id": "41wVa3Mlhngz",
        "colab": {
          "base_uri": "https://localhost:8080/"
        },
        "outputId": "df2abc8b-6c59-4787-e8bb-807a4a426450"
      },
      "execution_count": 23,
      "outputs": [
        {
          "output_type": "stream",
          "name": "stdout",
          "text": [
            "{\r\n",
            "  \"type\": \"FeatureCollection\",\r\n",
            "  \"features\": [\r\n",
            "    {\r\n",
            "      \"type\": \"Feature\",\r\n",
            "      \"properties\": {},\r\n",
            "      \"geometry\": {\r\n",
            "        \"type\": \"Polygon\",\r\n",
            "        \"coordinates\": [\r\n",
            "          [\r\n",
            "            [\r\n",
            "              121.15516662597656,\r\n",
            "              32.35444302709291\r\n",
            "            ],\r\n",
            "            [\r\n",
            "              121.50535583496092,\r\n",
            "              32.35444302709291\r\n",
            "            ],\r\n",
            "            [\r\n",
            "              121.50535583496092,\r\n",
            "              32.63821844256468\r\n",
            "            ],\r\n",
            "            [\r\n",
            "              121.15516662597656,\r\n",
            "              32.63821844256468\r\n",
            "            ],\r\n",
            "            [\r\n",
            "              121.15516662597656,\r\n",
            "              32.35444302709291\r\n",
            "            ]\r\n",
            "          ]\r\n",
            "        ]\r\n",
            "      }\r\n",
            "    }\r\n",
            "  ]\r\n",
            "}"
          ]
        }
      ]
    },
    {
      "cell_type": "markdown",
      "source": [
        "https://geojson.io/#map=7/34.565/121.289"
      ],
      "metadata": {
        "id": "6kV9s0eNpRxp"
      }
    },
    {
      "cell_type": "code",
      "source": [
        "!cp \"/content/drive/My Drive/Planet/example.geojson\" \"/content/drive/My Drive/swt\""
      ],
      "metadata": {
        "id": "Hff9FcH5hnjl"
      },
      "execution_count": 24,
      "outputs": []
    },
    {
      "cell_type": "code",
      "source": [
        "!cat \"/content/drive/My Drive/swt/example.geojson\""
      ],
      "metadata": {
        "id": "BxZB3OYDhnmc"
      },
      "execution_count": null,
      "outputs": []
    },
    {
      "cell_type": "code",
      "source": [
        "!planet -k PUT_YOUR_API_KEY_HERE data download --limit 3 --date acquired gt 2020-08-05 --item-type PSScene4Band --geom @example.geojson --asset-type analytic --quiet"
      ],
      "metadata": {
        "id": "SW9l9t26q4tQ"
      },
      "execution_count": null,
      "outputs": []
    },
    {
      "cell_type": "markdown",
      "source": [
        "API Key:  PLAK9948855dd01246448636bc5229a3ec73"
      ],
      "metadata": {
        "id": "EAwb_bhErl-5"
      }
    },
    {
      "cell_type": "code",
      "source": [
        "!ls -l "
      ],
      "metadata": {
        "id": "h0W8pCHarhsH"
      },
      "execution_count": null,
      "outputs": []
    },
    {
      "cell_type": "code",
      "source": [
        "!planet data search --limit 10"
      ],
      "metadata": {
        "id": "43h96M4xFX5-"
      },
      "execution_count": null,
      "outputs": []
    },
    {
      "cell_type": "code",
      "source": [
        "# 从任何 ItemType 的 API 中获取最新的 10 项：\n",
        "!planet -k PLAK9948855dd01246448636bc5229a3ec73 data search --limit 2 --item-type Landsat8L1G"
      ],
      "metadata": {
        "id": "IMKScNS9EQh7"
      },
      "execution_count": null,
      "outputs": []
    },
    {
      "cell_type": "code",
      "source": [
        "#获取最近获取的 PSScene3Band ItemType 记录：\n",
        "!planet -k PLAK9948855dd01246448636bc5229a3ec73 data search --item-type PSScene3Band --date acquired gt 2017-02-14"
      ],
      "metadata": {
        "id": "RkYjQsxmEQll"
      },
      "execution_count": null,
      "outputs": []
    },
    {
      "cell_type": "code",
      "source": [
        "# 可以不区分大小写地指定项目类型，在 CLI 中使用 glob 匹配：\n",
        "!planet -k PLAK9948855dd01246448636bc5229a3ec73 data search --item-type psscene* --date acquired gt 2017-02-14"
      ],
      "metadata": {
        "id": "T05ELsz0EQoa"
      },
      "execution_count": null,
      "outputs": []
    },
    {
      "cell_type": "code",
      "source": [
        "# 搜索一个月。注意：条件作为 AND 过滤器应用：\n",
        "!planet -k PLAK9948855dd01246448636bc5229a3ec73 data search --item-type PSScene3Band --date acquired gt 2017-02-14 --date acquired lt 2017-03-14"
      ],
      "metadata": {
        "id": "g1SKtYm5EQrP"
      },
      "execution_count": null,
      "outputs": []
    },
    {
      "cell_type": "code",
      "source": [
        "#使用 aoi.json 中定义的几何图形来约束对 PSScene3Band 和 PSScene4Band 的搜索：\n",
        "!planet -k PLAK9948855dd01246448636bc5229a3ec73 data search --item-type PSScene3Band --item-type PSScene4Band --geom aoi.json"
      ],
      "metadata": {
        "id": "2u1mkEJbEQuB"
      },
      "execution_count": null,
      "outputs": []
    },
    {
      "cell_type": "code",
      "source": [
        "#将搜索过滤器输出到文件：\n",
        "!planet -k PLAK9948855dd01246448636bc5229a3ec73 data filter --range cloud_cover lt .1 --geom aoi.json > my-search.json"
      ],
      "metadata": {
        "id": "9bTwc1n4EQw5"
      },
      "execution_count": null,
      "outputs": []
    },
    {
      "cell_type": "code",
      "source": [
        "#使用一些附加选项从文件中的过滤器创建保存的搜索（这将输出搜索 id 以供以后使用）：\n",
        "!planet -k PLAK9948855dd01246448636bc5229a3ec73 data create-search --item-type PSScene3Band --string-in satellite_id 0c12 --name my-search --filter-json my-search.json"
      ],
      "metadata": {
        "id": "NaVX5AzdEQz7"
      },
      "execution_count": null,
      "outputs": []
    },
    {
      "cell_type": "code",
      "source": [
        "#执行保存的搜索：\n",
        "!planet -k PLAK9948855dd01246448636bc5229a3ec73 data saved-search 4782d4118fee4275860665129a1e23c1"
      ],
      "metadata": {
        "id": "8i5lOgewEQ2-"
      },
      "execution_count": null,
      "outputs": []
    },
    {
      "cell_type": "code",
      "source": [
        "#使用过滤器从文件中获取统计信息：\n",
        "!planet -k PLAK9948855dd01246448636bc5229a3ec73 data stats --item-type Sentinel2L1C --filter-json my-search.json"
      ],
      "metadata": {
        "id": "CN7X5aJYGygR"
      },
      "execution_count": null,
      "outputs": []
    },
    {
      "cell_type": "code",
      "source": [
        "# 激活最新的 3 个 PSScene3Band 项目并将其下载到images-download-directory。\n",
        "# 注意：这可能需要一些时间并且目录必须存在：\n",
        "!planet -k PLAK9948855dd01246448636bc5229a3ec73 data download --item-type PSScene3Band --limit 3 --dest images-download-directory"
      ],
      "metadata": {
        "id": "0uJxbl6jGykH"
      },
      "execution_count": null,
      "outputs": []
    },
    {
      "cell_type": "code",
      "source": [
        "#列出您有权访问的所有马赛克的信息：\n",
        " mosaics list"
      ],
      "metadata": {
        "id": "b63fV9xUGynO"
      },
      "execution_count": null,
      "outputs": []
    },
    {
      "cell_type": "code",
      "source": [
        "#请注意，您可能希望将输出的 JSON 解析为更易于阅读的格式。cli 不直接为此提供选项，但旨在与其他工具轻松互操作，例如jq。例如，我们可以只输出每个马赛克的名称和日期范围：\n",
        "!planet -k PLAK9948855dd01246448636bc5229a3ec73 mosaics list | jq -r '.mosaics[] | [.name, .first_acquired, .last_acquired] | @tsv'"
      ],
      "metadata": {
        "id": "dSibsW2UGyp9"
      },
      "execution_count": null,
      "outputs": []
    },
    {
      "cell_type": "code",
      "source": [
        "#获取特定马赛克的基本信息：\n",
        "!planet -k PLAK9948855dd01246448636bc5229a3ec73 mosaics info global_monthly_2018_09_mosaic"
      ],
      "metadata": {
        "id": "7siGdq3xGyst"
      },
      "execution_count": null,
      "outputs": []
    },
    {
      "cell_type": "code",
      "source": [
        "#列出马赛克的前 10 个四边形（省略该--limit选项将列出所有四边形。请记住，全局马赛克可能有数百万个。）：\n",
        "!planet -k PLAK9948855dd01246448636bc5229a3ec73 mosaics search global_monthly_2018_09_mosaic --limit=10"
      ],
      "metadata": {
        "id": "9i4WC5ZtGyvZ"
      },
      "execution_count": null,
      "outputs": []
    },
    {
      "cell_type": "code",
      "source": [
        "#查找特定感兴趣区域内的所有四边形：\n",
        "!planet -k PLAK9948855dd01246448636bc5229a3ec73 mosaics search global_monthly_2018_09_mosaic --bbox=-95.5,29.6,-95.3,29.8"
      ],
      "metadata": {
        "id": "RS835wBwGyx4"
      },
      "execution_count": null,
      "outputs": []
    },
    {
      "cell_type": "code",
      "source": [
        "# 请注意，格式--bbox是“xmin,ymin,xmax,ymax”，因此经度在纬度之前。\n",
        "# 获取特定马赛克四边形的基本信息（足迹等）：\n",
        "!planet -k PLAK9948855dd01246448636bc5229a3ec73 mosaics quad-info global_monthly_2018_09_mosaic 480-1200"
      ],
      "metadata": {
        "id": "BMErWnnhGy0X"
      },
      "execution_count": null,
      "outputs": []
    },
    {
      "cell_type": "code",
      "source": [
        "# 确定哪些场景对特定的马赛克四边形有贡献：\n",
        "# planet mosaics contribution global_monthly_2018_09_mosaic 480-1200\n",
        "# 下载马赛克的所有四边形（这对于数百 TB 大小的大型马赛克是不切实际的）：\n",
        "# planet mosaics download <mosaic_name>\n",
        "# 下载矩形框内的所有四边形以进行马赛克：\n",
        "# planet mosaics download global_monthly_2018_09_mosaic --bbox=-95.5,29.6,-95.3,29.8\n",
        "# 获取有关马赛克系列的信息：\n",
        "# planet mosaics series describe <series_id>\n",
        "# 获取马赛克系列中的马赛克列表：\n",
        "# planet mosaics series list-mosaics <series_id>"
      ],
      "metadata": {
        "id": "JEFiFSrtGy28"
      },
      "execution_count": null,
      "outputs": []
    },
    {
      "cell_type": "code",
      "source": [
        "# 这些示例假定读者已经熟悉Analytics 用户指南。\n",
        "# 列出您有权访问的所有订阅源、订阅或集合的信息：\n",
        "# planet analytics feeds list\n",
        "# planet analytics subscriptions list\n",
        "# planet analytics collections list\n",
        "# 请注意，您可能希望将输出的 JSON 解析为更易于阅读的格式。cli 不直接为此提供选项，\n",
        "# 但旨在与其他工具轻松互操作，例如jq。例如，对于提要，我们可能对 ID、描述以及目标和源镶嵌（如果适用）感兴趣：\n",
        "# planet analytics feeds list | jq -r '.data[] | [.id, .description, .created, .source.config.series_id, .target.config.series_id]'\n",
        "# ID、描述、源提要 ID 和创建日期对于订阅很有用：\n",
        "# planet analytics subscriptions list | jq -r '.data[] | [.id, .feedID, .created]'\n",
        "# 获取订阅源的前 10 个订阅：\n",
        "# planet analytics subscriptions list --feed-id <feed-id> --limit 10\n",
        "# 获取有关特定提要、订阅或集合的信息：\n",
        "# planet analytics feeds describe <feed_id>\n",
        "# planet analytics subscriptions describe <subscription_id>\n",
        "# planet analytics collections describe <collection_id or subscription_id>\n",
        "# 列出与提要、订阅或收藏相关的所有马赛克（如果提要仅基于马赛克）：\n",
        "# planet analytics feeds list-mosaics <feed_id>\n",
        "# planet analytics subscriptions list-mosaics <subscription_id>\n",
        "# planet analytics collections list-mosaics <collection_id or subscription_id>\n",
        "# 可以通过以下两种方式之一请求集合的特征（GeoJSON 结果）。list选项将只返回结果切片（一次默认为 100 个），而list-all将流式传输特征，直到检索到所有特征。两个选项都接受相同的附加过滤器。\n",
        "# 行星分析集合功能列表 <collection_id 或订阅 ID> 行星分析集合功能列表所有 <collection_id 或订阅 ID>\n",
        "\n",
        "# 使用list时对结果进行分页：\n",
        "\n",
        "# planet analytics collections features list <collection_id or subscription_id>\n",
        "# planet analytics collections features list <collection_id or subscription_id> --before <feature_id_of_last_feature_in_previous_page>\n",
        "# 获取集合的 10 个最新特征（GeoJSON 结果）：\n",
        "\n",
        "# planet analytics collections features list <collection_id or subscription_id> --limit 10\n",
        "# 流式传输自上次看到功能以来的所有功能（GeoJSON 结果）：\n",
        "\n",
        "# planet analytics collections features list-all <collection_id or subscription_id> --after <feature_id>\n",
        "# 获取特定时间范围内集合的特征（GeoJSON 结果）：\n",
        "\n",
        "# planet analytics collections features list <collection_id or subscription_id> --time-range 2019-01-01T00:00:00.00Z/2019-02-01T00:00:00.00Z\n",
        "# planet analytics collections features list-all <collection_id or subscription_id> --time-range 2019-01-01T00:00:00.00Z/2019-02-01T00:00:00.00Z\n",
        "# 获取特定区域内集合的特征（GeoJSON 结果）：\n",
        "\n",
        "# planet analytics collections features list <collection_id or subscription_id> --bbox 122.3,47.6,122.4,47.7\n",
        "# planet analytics collections features list-all <collection_id or subscription_id> --bbox 122.3,47.6,122.4,47.7\n",
        "# 还可以获取与集合中特定 GeoJSON 功能相关联的资源。正如不同的提要基于不同的图像类型并产生不同类型的输出一样，每个提要的资源也各不相同：\n",
        "# source-quad：下载用于派生特征的马赛克四边形，仅适用于与在马赛克上操作的提要相关的集合\n",
        "# target-quad：下载包含提要的栅格输出的马赛克四边形，仅适用于与输出栅格数据的提要相关的集合\n",
        "# source-image-info：获取用于派生特征的源 Planet 产品（例如 PSScene3Band）的元数据，仅适用于非拼接提要\n",
        "# 为集合中的功能请求资源：\n",
        "# planet analytics collections features get source-quad <collection_id or subscription_id> <feature_id>\n",
        "# planet analytics collections features get target-quad <collection_id or subscription_id> <feature_id>\n",
        "# planet analytics collections features get source-image-info <collection_id or subscription_id> <feature_id>"
      ],
      "metadata": {
        "id": "BWL2RtGLGy5g"
      },
      "execution_count": null,
      "outputs": []
    },
    {
      "cell_type": "code",
      "source": [
        "# 与其他工具集成\n",
        "# 搜索结果的输出是有效的 GeoJSON，因此可以将它们通过管道传输到文件或工具中。\n",
        "# 使用gist命令创建一个gist ：\n",
        "# planet data search --item-type psscene --limit 100 | gist -f latest-scenes.geojson\n",
        "# 使用 Shapefile 搜索\n",
        "# 搜索由 Shapefile 描述的感兴趣区域，可以通过使用Fiona链接命令来完成：\n",
        "# $ fio dump santiago-de-chile.shp | planet data search --item-type psscene --geom @-\n",
        "# 注意：–geom的@-值指定从标准输入读取\n",
        "# 提取元数据字段\n",
        "# 使用jq，可以从 Planet API 返回的数据中解析有用的信息。\n",
        "# $ planet data search --item-type psscene --limit 100 | jq -r \".features[].id\"\n",
        "# 搜索重叠图像\n",
        "# 使用Rasterio可以轻松完成查询与另一个数据源重叠的行星场景。鉴于此 Landsat 场景拍摄于 2015 年 4 月 14 日，因此搜索在类似时间范围内拍摄的行星场景可能会很有用。\n",
        "# $ rio bounds LC82210682015104LGN00_B1.TIF | planet data search --item-type psscene --geom - --date acquired gt 2015-04-12 --date acquired lt 2015-04-14"
      ],
      "metadata": {
        "id": "x4tRol4nGy8H"
      },
      "execution_count": null,
      "outputs": []
    },
    {
      "cell_type": "code",
      "source": [
        ""
      ],
      "metadata": {
        "id": "Ly5MvCsXGy_B"
      },
      "execution_count": null,
      "outputs": []
    },
    {
      "cell_type": "code",
      "source": [
        ""
      ],
      "metadata": {
        "id": "SL0a4PidGzBz"
      },
      "execution_count": null,
      "outputs": []
    },
    {
      "cell_type": "code",
      "source": [
        ""
      ],
      "metadata": {
        "id": "y89o-S6hGzEm"
      },
      "execution_count": null,
      "outputs": []
    }
  ]
}