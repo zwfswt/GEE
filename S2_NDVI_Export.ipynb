{
  "nbformat": 4,
  "nbformat_minor": 0,
  "metadata": {
    "colab": {
      "name": "S2_NDVI_Export.ipynb",
      "provenance": [],
      "collapsed_sections": [],
      "authorship_tag": "ABX9TyPXU/ae9tIqamKGy+7fvrnA",
      "include_colab_link": true
    },
    "kernelspec": {
      "name": "python3",
      "display_name": "Python 3"
    },
    "language_info": {
      "name": "python"
    }
  },
  "cells": [
    {
      "cell_type": "markdown",
      "metadata": {
        "id": "view-in-github",
        "colab_type": "text"
      },
      "source": [
        "<a href=\"https://colab.research.google.com/github/zwfswt/GEE/blob/main/S2_NDVI_Export.ipynb\" target=\"_parent\"><img src=\"https://colab.research.google.com/assets/colab-badge.svg\" alt=\"Open In Colab\"/></a>"
      ]
    },
    {
      "cell_type": "code",
      "source": [
        "import ee\n",
        "ee.Authenticate()\n",
        "ee.Initialize()"
      ],
      "metadata": {
        "colab": {
          "base_uri": "https://localhost:8080/"
        },
        "id": "IoiqBdy9dUWC",
        "outputId": "f158ec8f-3ebe-4dc3-b4e5-edf1589c4c17"
      },
      "execution_count": 1,
      "outputs": [
        {
          "output_type": "stream",
          "name": "stdout",
          "text": [
            "To authorize access needed by Earth Engine, open the following URL in a web browser and follow the instructions. If the web browser does not start automatically, please manually browse the URL below.\n",
            "\n",
            "    https://code.earthengine.google.com/client-auth?scopes=https%3A//www.googleapis.com/auth/earthengine%20https%3A//www.googleapis.com/auth/devstorage.full_control&request_id=hGc2Jr_tqJyUyC0Bwqdbpqx27J7F4_wKHI7FJaroNu0&tc=zZurTByRnMyc7xA3jnoKbUOGN43MS0ffFfmrhKvBQw0&cc=KWd-zEjqkkE7l-lCmqZWrG_j80ug46xyFb1Uz_VnV3Y\n",
            "\n",
            "The authorization workflow will generate a code, which you should paste in the box below. \n",
            "Enter verification code: 4/1AX4XfWgNWZJ5e5WA3nSThTGyA92g6vCkcKFUoMMOd-j1zwz4bq40Rh6Llyw\n",
            "\n",
            "Successfully saved authorization token.\n"
          ]
        }
      ]
    },
    {
      "cell_type": "code",
      "source": [
        "try:\n",
        "    import geemap\n",
        "except ModuleNotFoundError:\n",
        "    if 'google.colab' in str(get_ipython()):\n",
        "        print('geemap not found, installing via pip in Google Colab...')\n",
        "        !pip install geemap --quiet\n",
        "        import geemap\n",
        "    else:\n",
        "        print('geemap not found, please install via conda in your environment')"
      ],
      "metadata": {
        "colab": {
          "base_uri": "https://localhost:8080/",
          "height": 555
        },
        "id": "vz3Erwa4hmxx",
        "outputId": "796adb86-cb97-4277-ab6a-ea24ef2fc2c3"
      },
      "execution_count": 2,
      "outputs": [
        {
          "output_type": "stream",
          "name": "stdout",
          "text": [
            "geemap not found, installing via pip in Google Colab...\n",
            "\u001b[K     |████████████████████████████████| 2.0 MB 5.1 MB/s \n",
            "\u001b[K     |████████████████████████████████| 1.2 MB 29.3 MB/s \n",
            "\u001b[K     |████████████████████████████████| 187 kB 34.8 MB/s \n",
            "\u001b[K     |████████████████████████████████| 1.3 MB 35.3 MB/s \n",
            "\u001b[K     |████████████████████████████████| 3.0 MB 48.6 MB/s \n",
            "\u001b[K     |████████████████████████████████| 130 kB 73.2 MB/s \n",
            "\u001b[K     |████████████████████████████████| 3.3 MB 39.1 MB/s \n",
            "\u001b[K     |████████████████████████████████| 95 kB 4.0 MB/s \n",
            "\u001b[K     |████████████████████████████████| 99 kB 9.3 MB/s \n",
            "\u001b[K     |████████████████████████████████| 98 kB 7.9 MB/s \n",
            "\u001b[K     |████████████████████████████████| 8.7 MB 55.7 MB/s \n",
            "\u001b[K     |████████████████████████████████| 46 kB 4.0 MB/s \n",
            "\u001b[K     |████████████████████████████████| 128 kB 60.3 MB/s \n",
            "\u001b[K     |████████████████████████████████| 53 kB 2.2 MB/s \n",
            "\u001b[K     |████████████████████████████████| 342 kB 55.2 MB/s \n",
            "\u001b[K     |████████████████████████████████| 428 kB 46.8 MB/s \n",
            "\u001b[K     |████████████████████████████████| 54 kB 2.6 MB/s \n",
            "\u001b[K     |████████████████████████████████| 561 kB 76.0 MB/s \n",
            "\u001b[K     |████████████████████████████████| 130 kB 70.3 MB/s \n",
            "\u001b[K     |████████████████████████████████| 79 kB 6.6 MB/s \n",
            "\u001b[K     |████████████████████████████████| 133 kB 73.8 MB/s \n",
            "\u001b[K     |████████████████████████████████| 75 kB 4.0 MB/s \n",
            "\u001b[?25h  Building wheel for ee-extra (setup.py) ... \u001b[?25l\u001b[?25hdone\n",
            "  Building wheel for json5 (setup.py) ... \u001b[?25l\u001b[?25hdone\n",
            "  Building wheel for pycrs (setup.py) ... \u001b[?25l\u001b[?25hdone\n",
            "  Building wheel for sankee (setup.py) ... \u001b[?25l\u001b[?25hdone\n",
            "\u001b[31mERROR: pip's dependency resolver does not currently take into account all the packages that are installed. This behaviour is the source of the following dependency conflicts.\n",
            "google-colab 1.0.0 requires tornado~=5.1.0; python_version >= \"3.0\", but you have tornado 6.1 which is incompatible.\n",
            "flask 1.1.4 requires Jinja2<3.0,>=2.10.1, but you have jinja2 3.1.2 which is incompatible.\n",
            "datascience 0.10.6 requires folium==0.2.1, but you have folium 0.12.1.post1 which is incompatible.\u001b[0m\n"
          ]
        }
      ]
    },
    {
      "cell_type": "code",
      "source": [
        "javascript_code = \"\"\"\n",
        "\n",
        "var geometry = ee.Geometry.Polygon(\n",
        "               [[124.05,32.27],\n",
        "               [124.05,34.38],\n",
        "               [121.54,34.38],\n",
        "               [121.54,32.27]]);\n",
        "var aoi = ee.FeatureCollection(geometry);\n",
        "function maskS2clouds(image) {\n",
        "  var qa = image.select('QA60');\n",
        "  var cloudBitMask = 1 << 5;\n",
        "  var cirrusBitMask = 1 << 11;\n",
        "  var mask = qa.bitwiseAnd(cloudBitMask).eq(0)\n",
        "      .and(qa.bitwiseAnd(cirrusBitMask).eq(0));\n",
        "  return image.updateMask(mask).divide(10000);\n",
        "}\n",
        "\n",
        "var dataset = ee.ImageCollection('COPERNICUS/S2')\n",
        "                  .filterDate('2022-04-27', '2022-05-06')\n",
        "                  .filter(ee.Filter.lt('CLOUDY_PIXEL_PERCENTAGE', 10))\n",
        "                  .map(maskS2clouds);\n",
        "\n",
        "var vis = {min: 0.1, max: 1, palette: [\n",
        "  'FF0000', '00FF00'\n",
        "]};\n",
        "\n",
        "function NDVI(image){\n",
        "  return image.select().addBands(image.normalizedDifference(['B8', 'B4']));\n",
        "}\n",
        "\n",
        "var median=dataset.median();\n",
        "var clip=median.clipToCollection(aoi);\n",
        "var NDVIImg=NDVI(clip);\n",
        "Map.setCenter(121.43, 34.79,7);\n",
        "Map.addLayer(NDVIImg, vis, 'NDVI');\n",
        "\n",
        "Export.image.toDrive({\n",
        "image: NDVIImg,\n",
        "description: 'Sentinel-NDVI',\n",
        "fileNamePrefix: 'S2_NDVI',\n",
        "maxPixels: 1e13,\n",
        "region: aoi\n",
        "});\n",
        "\n",
        "var rgbVis = {\n",
        "  min: 0.0,\n",
        "  max: 3000,\n",
        "  bands: ['B4', 'B3', 'B2'], \n",
        "};\n",
        "\n",
        "var exportImage = clipped.select('B.*')\n",
        "\n",
        "Export.image.toDrive({\n",
        "    image: exportImage,\n",
        "    description: 'Bangalore_Composite_Raw',\n",
        "    folder: 'earthengine',\n",
        "    fileNamePrefix: 'bangalore_composite_raw',\n",
        "    region: geometry,\n",
        "    scale: 20,\n",
        "    maxPixels: 1e9\n",
        "})\n",
        "\n",
        "\"\"\""
      ],
      "metadata": {
        "id": "TsEMB78JdUTZ"
      },
      "execution_count": 55,
      "outputs": []
    },
    {
      "cell_type": "code",
      "source": [
        "lines = geemap.js_snippet_to_py(\n",
        "    javascript_code, add_new_cell=False,\n",
        "    import_ee=True, import_geemap=True, show_map=True)\n",
        "for line in lines:\n",
        "    print(line.rstrip())"
      ],
      "metadata": {
        "colab": {
          "base_uri": "https://localhost:8080/"
        },
        "id": "5k05g0RqdUQt",
        "outputId": "16d2bc2a-adb6-4ac3-c4d9-352ad0d0dd74"
      },
      "execution_count": 56,
      "outputs": [
        {
          "output_type": "stream",
          "name": "stdout",
          "text": [
            "import ee\n",
            "import geemap\n",
            "Map = geemap.Map()\n",
            "\n",
            "geometry = ee.Geometry.Polygon(\n",
            "               [[124.05,32.27],\n",
            "               [124.05,34.38],\n",
            "               [121.54,34.38],\n",
            "               [121.54,32.27]])\n",
            "aoi = ee.FeatureCollection(geometry)\n",
            "def maskS2clouds(image):\n",
            "  qa = image.select('QA60')\n",
            "  cloudBitMask = 1 << 5\n",
            "  cirrusBitMask = 1 << 11\n",
            "  mask = qa.bitwiseAnd(cloudBitMask).eq(0) \\\n",
            "      .And(qa.bitwiseAnd(cirrusBitMask).eq(0))\n",
            "  return image.updateMask(mask).divide(10000)\n",
            "\n",
            "dataset = ee.ImageCollection('COPERNICUS/S2') \\\n",
            "                  .filterDate('2022-04-27', '2022-05-06') \\\n",
            "                  .filter(ee.Filter.lt('CLOUDY_PIXEL_PERCENTAGE', 10)) \\\n",
            "                  .map(maskS2clouds)\n",
            "\n",
            "vis = {'min': 0.1, 'max': 1, 'palette': [\n",
            "  'FF0000', '00FF00'\n",
            "]}\n",
            "\n",
            "def NDVI(image):\n",
            "  return image.select().addBands(image.normalizedDifference(['B8', 'B4']))\n",
            "\n",
            "median=dataset.median()\n",
            "clip=median.clipToCollection(aoi)\n",
            "NDVIImg=NDVI(clip)\n",
            "Map.setCenter(121.43, 34.79,7)\n",
            "Map.addLayer(NDVIImg, vis, 'NDVI')\n",
            "\n",
            "Export.image.toDrive({\n",
            "'image': NDVIImg,\n",
            "'description': 'Sentinel-NDVI',\n",
            "'fileNamePrefix': 'S2_NDVI',\n",
            "'maxPixels': 1e13,\n",
            "'region': aoi\n",
            "})\n",
            "\n",
            "rgbVis = {\n",
            "  'min': 0.0,\n",
            "  'max': 3000,\n",
            "  'bands': ['B4', 'B3', 'B2'],\n",
            "}\n",
            "\n",
            "exportImage = clipped.select('B.*')\n",
            "\n",
            "Export.image.toDrive({\n",
            "    'image': exportImage,\n",
            "    'description': 'Bangalore_Composite_Raw',\n",
            "    'folder': 'earthengine',\n",
            "    'fileNamePrefix': 'bangalore_composite_raw',\n",
            "    'region': geometry,\n",
            "    'scale': 20,\n",
            "    'maxPixels': 1e9\n",
            "})\n",
            "Map\n"
          ]
        }
      ]
    },
    {
      "cell_type": "markdown",
      "source": [
        "显示RGB图像"
      ],
      "metadata": {
        "id": "bzfb9dXHIQ4J"
      }
    },
    {
      "cell_type": "code",
      "source": [
        "import ee\n",
        "import geemap\n",
        "Map = geemap.Map()\n",
        "\n",
        "geometry = ee.Geometry.Polygon(\n",
        "               [[124.05,32.27],\n",
        "               [124.05,34.38],\n",
        "               [121.54,34.38],\n",
        "               [121.54,32.27]])\n",
        "# aoi = ee.FeatureCollection(geometry)\n",
        "Map.centerObject(geometry,7)\n",
        "s2 = ee.ImageCollection(\"COPERNICUS/S2\")\n",
        "# rgbVis = {\n",
        "#   'min': 0.0,\n",
        "#   'max': 3000,\n",
        "#   'bands': ['B8', 'B4', 'B3']\n",
        "# }\n",
        "def maskS2clouds(image):\n",
        "  qa = image.select('QA60')\n",
        "  cloudBitMask = 1 << 10\n",
        "  cirrusBitMask = 1 << 11\n",
        "  mask = qa.bitwiseAnd(cloudBitMask).eq(0).And(\n",
        "             qa.bitwiseAnd(cirrusBitMask).eq(0))\n",
        "  return image.updateMask(mask) \\\n",
        "      .select(\"B.*\") \\\n",
        "      .copyProperties(image, [\"system:time_start\"])\n",
        "\n",
        "filtered = s2 \\\n",
        "  .filter(ee.Filter.date('2022-05-03', '2022-05-05')) \\\n",
        "  .filter(ee.Filter.bounds(geometry)) \\\n",
        "  .map(maskS2clouds)\n",
        "def addNDVI(image):\n",
        "  ndvi = image.normalizedDifference(['B5', 'B4']).rename('ndvi')\n",
        "  return image.addBands(ndvi)\n",
        "\n",
        "withNdvi = filtered.map(addNDVI)\n",
        "\n",
        "composite = withNdvi.median()\n",
        "ndviComposite = composite.select('ndvi').clip(geometry)\n",
        "palette = [\n",
        "  'FFFFFF', 'CE7E45', 'DF923D', 'F1B555', 'FCD163', '99B718',\n",
        "  '74A901', '66A000', '529400', '3E8601', '207401', '056201',\n",
        "  '004C00', '023B01', '012E01', '011D01', '011301']\n",
        "ndviVis = {'min':0, 'max':0.5, 'palette': palette }\n",
        "# Map.addLayer(withNdvi.select('ndvi'), ndviVis, 'NDVI Composite')\n",
        "# Map.addLayer(ndviComposite, ndviVis, 'NDVI Composite')\n",
        "# Map\n",
        "rgbVis1 = {\n",
        "  'min': 0.0,\n",
        "  'max': 3000,\n",
        "  'bands': ['B4', 'B3', 'B2']\n",
        "}\n",
        "rgbVis2 = {\n",
        "  'min': 0.0,\n",
        "  'max': 3000,\n",
        "  'bands': ['B8', 'B4', 'B3']\n",
        "}\n",
        "# image = filtered.median(); \n",
        "image = filtered.mosaic() \n",
        "clipped = image.clip(geometry)\n",
        "# Map.addLayer(clipped, rgbVis1, 'RGB')\n",
        "Map.addLayer(clipped, rgbVis2, 'FalseColor')\n",
        "Map "
      ],
      "metadata": {
        "id": "skpelUpqIPAN"
      },
      "execution_count": null,
      "outputs": []
    },
    {
      "cell_type": "markdown",
      "source": [
        "导出RGB图像"
      ],
      "metadata": {
        "id": "bWsIxsNeK2Wq"
      }
    },
    {
      "cell_type": "code",
      "source": [
        "task = ee.batch.Export.image.toDrive(**{\n",
        "    'image': clipped.select('B.*'),\n",
        "    'description': 'Image Export {}'.format(i+1),\n",
        "    'fileNamePrefix': image.id().getInfo(),\n",
        "    'folder':'earthengine',\n",
        "    'scale': 100,\n",
        "    'region': image.geometry().bounds().getInfo()['coordinates'],\n",
        "    'maxPixels': 1e10\n",
        "  })\n",
        "task.start()\n",
        "print('Started Task: ', i+1)"
      ],
      "metadata": {
        "colab": {
          "base_uri": "https://localhost:8080/"
        },
        "id": "cJnuwBVcK66l",
        "outputId": "5168945a-5fa7-4c18-e98e-ac97dd1fce21"
      },
      "execution_count": 76,
      "outputs": [
        {
          "output_type": "stream",
          "name": "stdout",
          "text": [
            "Started Task:  7\n"
          ]
        }
      ]
    },
    {
      "cell_type": "markdown",
      "source": [
        "监测导出任务"
      ],
      "metadata": {
        "id": "Ee8ND8F0MYVG"
      }
    },
    {
      "cell_type": "code",
      "source": [
        "tasks = ee.batch.Task.list()\n",
        "for task in tasks:\n",
        "  task_id = task.status()['id']\n",
        "  task_state = task.status()['state']\n",
        "  print(task_id, task_state)"
      ],
      "metadata": {
        "id": "KsMjtdGEMbiI"
      },
      "execution_count": null,
      "outputs": []
    },
    {
      "cell_type": "markdown",
      "source": [
        "取消任务"
      ],
      "metadata": {
        "id": "x15gu4ANM6Va"
      }
    },
    {
      "cell_type": "code",
      "source": [
        "tasks = ee.batch.Task.list()\n",
        "for task in tasks:\n",
        "    task_id = task.status()['id']\n",
        "    task_state = task.status()['state']\n",
        "    if task_state == 'RUNNING' or task_state == 'READY':\n",
        "        task.cancel()\n",
        "        print('Task {} canceled'.format(task_id))\n",
        "    else:\n",
        "        print('Task {} state is {}'.format(task_id, task_state))"
      ],
      "metadata": {
        "id": "OAv9djHbM8MJ"
      },
      "execution_count": null,
      "outputs": []
    },
    {
      "cell_type": "markdown",
      "source": [
        "显示NDVI"
      ],
      "metadata": {
        "id": "WkOJ-h9MIWEW"
      }
    },
    {
      "cell_type": "code",
      "source": [
        "import ee\n",
        "import geemap\n",
        "Map = geemap.Map()\n",
        "\n",
        "geometry = ee.Geometry.Polygon(\n",
        "               [[124.05,32.27],\n",
        "               [124.05,34.38],\n",
        "               [121.54,34.38],\n",
        "               [121.54,32.27]])\n",
        "# aoi = ee.FeatureCollection(geometry)\n",
        "Map.centerObject(geometry,7)\n",
        "s2 = ee.ImageCollection(\"COPERNICUS/S2\")\n",
        "rgbVis = {\n",
        "  'min': 0.0,\n",
        "  'max': 3000,\n",
        "  'bands': ['B8', 'B4', 'B3']\n",
        "}\n",
        "def maskS2clouds(image):\n",
        "  qa = image.select('QA60')\n",
        "  cloudBitMask = 1 << 10\n",
        "  cirrusBitMask = 1 << 11\n",
        "  mask = qa.bitwiseAnd(cloudBitMask).eq(0).And(\n",
        "             qa.bitwiseAnd(cirrusBitMask).eq(0))\n",
        "  return image.updateMask(mask) \\\n",
        "      .select(\"B.*\") \\\n",
        "      .copyProperties(image, [\"system:time_start\"])\n",
        "\n",
        "filtered = s2 \\\n",
        "  .filter(ee.Filter.date('2022-05-03', '2022-05-05')) \\\n",
        "  .filter(ee.Filter.bounds(geometry)) \\\n",
        "  .map(maskS2clouds)\n",
        "def addNDVI(image):\n",
        "  ndvi = image.normalizedDifference(['B5', 'B4']).rename('ndvi')\n",
        "  return image.addBands(ndvi)\n",
        "\n",
        "withNdvi = filtered.map(addNDVI)\n",
        "\n",
        "composite = withNdvi.median()\n",
        "ndviComposite = composite.select('ndvi').clip(geometry)\n",
        "palette = [\n",
        "  'FFFFFF', 'CE7E45', 'DF923D', 'F1B555', 'FCD163', '99B718',\n",
        "  '74A901', '66A000', '529400', '3E8601', '207401', '056201',\n",
        "  '004C00', '023B01', '012E01', '011D01', '011301']\n",
        "ndviVis = {'min':0, 'max':0.5, 'palette': palette }\n",
        "# Map.addLayer(withNdvi.select('ndvi'), ndviVis, 'NDVI Composite')\n",
        "Map.addLayer(ndviComposite, ndviVis, 'NDVI Composite')\n",
        "Map"
      ],
      "metadata": {
        "id": "G8lbUujndUN_"
      },
      "execution_count": null,
      "outputs": []
    },
    {
      "cell_type": "code",
      "source": [
        "image_ids = withNdvi.aggregate_array('system:index').getInfo()\n",
        "print('Total images: ', len(image_ids))"
      ],
      "metadata": {
        "colab": {
          "base_uri": "https://localhost:8080/"
        },
        "id": "bXUC28XGdULX",
        "outputId": "3126fb4a-89ae-412e-b7aa-42119cd202ca"
      },
      "execution_count": 37,
      "outputs": [
        {
          "output_type": "stream",
          "name": "stdout",
          "text": [
            "Total images:  0\n"
          ]
        }
      ]
    },
    {
      "cell_type": "code",
      "source": [
        "# Export with 100m resolution for this demo\n",
        "for i, image_id in enumerate(image_ids):\n",
        "  image = ee.Image(withNdvi.filter(ee.Filter.eq('system:index', image_id)).first())\n",
        "  task = ee.batch.Export.image.toDrive(**{\n",
        "    'image': image.select('ndvi'),\n",
        "    'description': 'Image Export {}'.format(i+1),\n",
        "    'fileNamePrefix': image.id().getInfo(),\n",
        "    'folder':'earthengine',\n",
        "    'scale': 10,\n",
        "    'region': image.geometry().bounds().getInfo()['coordinates'],\n",
        "    'maxPixels': 1e10\n",
        "  })\n",
        "  task.start()\n",
        "  print('Started Task: ', i+1)"
      ],
      "metadata": {
        "colab": {
          "base_uri": "https://localhost:8080/"
        },
        "id": "FUCCNm4edUIz",
        "outputId": "052757ba-3a2e-474a-e859-ca487515f2d4"
      },
      "execution_count": 30,
      "outputs": [
        {
          "output_type": "stream",
          "name": "stdout",
          "text": [
            "Started Task:  1\n",
            "Started Task:  2\n",
            "Started Task:  3\n",
            "Started Task:  4\n",
            "Started Task:  5\n",
            "Started Task:  6\n",
            "Started Task:  7\n"
          ]
        }
      ]
    },
    {
      "cell_type": "markdown",
      "source": [
        "管理正在运行/等待的任务"
      ],
      "metadata": {
        "id": "UyIUB4-qkTeU"
      }
    },
    {
      "cell_type": "code",
      "source": [
        "tasks = ee.batch.Task.list()\n",
        "for task in tasks:\n",
        "  task_id = task.status()['id']\n",
        "  task_state = task.status()['state']\n",
        "  print(task_id, task_state)"
      ],
      "metadata": {
        "id": "rKTj1PdIdUF7"
      },
      "execution_count": null,
      "outputs": []
    },
    {
      "cell_type": "markdown",
      "source": [
        "取消任务"
      ],
      "metadata": {
        "id": "4YsT4YPWkVgE"
      }
    },
    {
      "cell_type": "code",
      "source": [
        "# tasks = ee.batch.Task.list()\n",
        "# for task in tasks:\n",
        "#     task_id = task.status()['id']\n",
        "#     task_state = task.status()['state']\n",
        "#     if task_state == 'RUNNING' or task_state == 'READY':\n",
        "#         task.cancel()\n",
        "#         print('Task {} canceled'.format(task_id))\n",
        "#     else:\n",
        "#         print('Task {} state is {}'.format(task_id, task_state))"
      ],
      "metadata": {
        "id": "4E9k3NvsdUA1"
      },
      "execution_count": null,
      "outputs": []
    },
    {
      "cell_type": "code",
      "source": [
        ""
      ],
      "metadata": {
        "id": "BORHCZ5odT9s"
      },
      "execution_count": null,
      "outputs": []
    },
    {
      "cell_type": "code",
      "execution_count": null,
      "metadata": {
        "id": "_ar_fk8OdMd5"
      },
      "outputs": [],
      "source": [
        ""
      ]
    }
  ]
}