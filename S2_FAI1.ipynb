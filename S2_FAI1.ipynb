{
  "nbformat": 4,
  "nbformat_minor": 0,
  "metadata": {
    "colab": {
      "name": "S2_FAI1.ipynb",
      "provenance": [],
      "collapsed_sections": [],
      "authorship_tag": "ABX9TyOM3ldkI/u9SHBi7C8T4Zxo",
      "include_colab_link": true
    },
    "kernelspec": {
      "name": "python3",
      "display_name": "Python 3"
    },
    "language_info": {
      "name": "python"
    },
    "widgets": {
      "application/vnd.jupyter.widget-state+json": {
        "23e707a4e87940a1a9078178de521a74": {
          "model_module": "jupyter-leaflet",
          "model_name": "LeafletTileLayerModel",
          "model_module_version": "^0.16.0",
          "state": {
            "_model_module": "jupyter-leaflet",
            "_model_module_version": "^0.16.0",
            "_model_name": "LeafletTileLayerModel",
            "_view_count": null,
            "_view_module": "jupyter-leaflet",
            "_view_module_version": "^0.16.0",
            "_view_name": "LeafletTileLayerView",
            "attribution": "Google",
            "base": false,
            "bottom": true,
            "bounds": null,
            "detect_retina": false,
            "loading": false,
            "max_native_zoom": 18,
            "max_zoom": 22,
            "min_native_zoom": 0,
            "min_zoom": 0,
            "name": "Google Maps",
            "no_wrap": false,
            "opacity": 1,
            "options": [
              "attribution",
              "bounds",
              "detect_retina",
              "max_native_zoom",
              "max_zoom",
              "min_native_zoom",
              "min_zoom",
              "no_wrap",
              "tile_size",
              "tms"
            ],
            "popup": null,
            "popup_max_height": null,
            "popup_max_width": 300,
            "popup_min_width": 50,
            "show_loading": false,
            "tile_size": 256,
            "tms": false,
            "url": "https://mt1.google.com/vt/lyrs=m&x={x}&y={y}&z={z}",
            "visible": true
          }
        },
        "fa0da3fef8c14d00a3e98f3064f3537c": {
          "model_module": "jupyter-leaflet",
          "model_name": "LeafletMapModel",
          "model_module_version": "^0.16.0",
          "state": {
            "_dom_classes": [],
            "_model_module": "jupyter-leaflet",
            "_model_module_version": "^0.16.0",
            "_model_name": "LeafletMapModel",
            "_view_count": null,
            "_view_module": "jupyter-leaflet",
            "_view_module_version": "^0.16.0",
            "_view_name": "LeafletMapView",
            "bottom": 214661,
            "bounce_at_zoom_limits": true,
            "box_zoom": true,
            "center": [
              31.151119844686743,
              124.10018920898439
            ],
            "close_popup_on_click": true,
            "controls": [
              "IPY_MODEL_b33b347b0a5c479497b8279a66e84d2c",
              "IPY_MODEL_135cd954b8984f7a978a26fa8de620f6",
              "IPY_MODEL_106d40bda3ab400dbea19d180b85aa6a",
              "IPY_MODEL_828404bcc1fb4625a7c36c91f63c0de2",
              "IPY_MODEL_55e5b2d603c844879d57523fd42a2bdb",
              "IPY_MODEL_9da724d15fdc44fe84bb6bac67c1d091",
              "IPY_MODEL_cc917760a3b24fe6a2f5dad3f7f5191e",
              "IPY_MODEL_bb22adb08b7e4c3f9fafa09127fbc60b"
            ],
            "crs": {
              "name": "EPSG3857",
              "custom": false
            },
            "default_style": "IPY_MODEL_241e2f7d184f4002bc5dcd9e1160c1cd",
            "double_click_zoom": true,
            "dragging": true,
            "dragging_style": "IPY_MODEL_4d70696d60d242ee897421be59c709f1",
            "east": 124.38583374023439,
            "fullscreen": false,
            "inertia": true,
            "inertia_deceleration": 3000,
            "inertia_max_speed": 1500,
            "interpolation": "bilinear",
            "keyboard": true,
            "keyboard_pan_offset": 80,
            "keyboard_zoom_offset": 1,
            "layers": [
              "IPY_MODEL_066299547a0a4884bda1e6f96c793751",
              "IPY_MODEL_23e707a4e87940a1a9078178de521a74",
              "IPY_MODEL_2f2e912c6d604f73866e092c0117ab60"
            ],
            "layout": "IPY_MODEL_dc89381c61ea4ae6ac1a0d0bb8fba74b",
            "left": 442462,
            "max_zoom": 24,
            "min_zoom": 1,
            "modisdate": "2022-05-07",
            "north": 31.327246314796376,
            "options": [
              "bounce_at_zoom_limits",
              "box_zoom",
              "center",
              "close_popup_on_click",
              "double_click_zoom",
              "dragging",
              "fullscreen",
              "inertia",
              "inertia_deceleration",
              "inertia_max_speed",
              "interpolation",
              "keyboard",
              "keyboard_pan_offset",
              "keyboard_zoom_offset",
              "max_zoom",
              "min_zoom",
              "prefer_canvas",
              "scroll_wheel_zoom",
              "tap",
              "tap_tolerance",
              "touch_zoom",
              "world_copy_jump",
              "zoom",
              "zoom_animation_threshold",
              "zoom_delta",
              "zoom_snap",
              "zoom_start"
            ],
            "prefer_canvas": false,
            "right": 443294,
            "scroll_wheel_zoom": true,
            "south": 30.97466550677959,
            "style": "IPY_MODEL_241e2f7d184f4002bc5dcd9e1160c1cd",
            "tap": true,
            "tap_tolerance": 15,
            "top": 214061,
            "touch_zoom": true,
            "west": 123.81454467773439,
            "window_url": "https://ccyu2fjcgeu-496ff2e9c6d22116-0-colab.googleusercontent.com/outputframe.html?vrz=colab-20220505-060046-RC01_446740890",
            "world_copy_jump": false,
            "zoom": 11,
            "zoom_animation_threshold": 4,
            "zoom_delta": 1,
            "zoom_snap": 1,
            "zoom_start": 12,
            "_dragging": false
          }
        },
        "b33b347b0a5c479497b8279a66e84d2c": {
          "model_module": "jupyter-leaflet",
          "model_name": "LeafletWidgetControlModel",
          "model_module_version": "^0.16.0",
          "state": {
            "_model_module": "jupyter-leaflet",
            "_model_module_version": "^0.16.0",
            "_model_name": "LeafletWidgetControlModel",
            "_view_count": null,
            "_view_module": "jupyter-leaflet",
            "_view_module_version": "^0.16.0",
            "_view_name": "LeafletWidgetControlView",
            "max_height": null,
            "max_width": null,
            "min_height": null,
            "min_width": null,
            "options": [
              "position",
              "transparent_bg"
            ],
            "position": "topleft",
            "transparent_bg": false,
            "widget": "IPY_MODEL_cdbd1c7373f44742b73711561bb8e2c0"
          }
        },
        "135cd954b8984f7a978a26fa8de620f6": {
          "model_module": "jupyter-leaflet",
          "model_name": "LeafletZoomControlModel",
          "model_module_version": "^0.16.0",
          "state": {
            "_model_module": "jupyter-leaflet",
            "_model_module_version": "^0.16.0",
            "_model_name": "LeafletZoomControlModel",
            "_view_count": null,
            "_view_module": "jupyter-leaflet",
            "_view_module_version": "^0.16.0",
            "_view_name": "LeafletZoomControlView",
            "options": [
              "position",
              "zoom_in_text",
              "zoom_in_title",
              "zoom_out_text",
              "zoom_out_title"
            ],
            "position": "topleft",
            "zoom_in_text": "+",
            "zoom_in_title": "Zoom in",
            "zoom_out_text": "-",
            "zoom_out_title": "Zoom out"
          }
        },
        "106d40bda3ab400dbea19d180b85aa6a": {
          "model_module": "jupyter-leaflet",
          "model_name": "LeafletScaleControlModel",
          "model_module_version": "^0.16.0",
          "state": {
            "_model_module": "jupyter-leaflet",
            "_model_module_version": "^0.16.0",
            "_model_name": "LeafletScaleControlModel",
            "_view_count": null,
            "_view_module": "jupyter-leaflet",
            "_view_module_version": "^0.16.0",
            "_view_name": "LeafletScaleControlView",
            "imperial": true,
            "max_width": 100,
            "metric": true,
            "options": [
              "imperial",
              "max_width",
              "metric",
              "position",
              "update_when_idle"
            ],
            "position": "bottomleft",
            "update_when_idle": false
          }
        },
        "828404bcc1fb4625a7c36c91f63c0de2": {
          "model_module": "jupyter-leaflet",
          "model_name": "LeafletFullScreenControlModel",
          "model_module_version": "^0.16.0",
          "state": {
            "_model_module": "jupyter-leaflet",
            "_model_module_version": "^0.16.0",
            "_model_name": "LeafletFullScreenControlModel",
            "_view_count": null,
            "_view_module": "jupyter-leaflet",
            "_view_module_version": "^0.16.0",
            "_view_name": "LeafletFullScreenControlView",
            "options": [
              "position"
            ],
            "position": "topleft"
          }
        },
        "55e5b2d603c844879d57523fd42a2bdb": {
          "model_module": "jupyter-leaflet",
          "model_name": "LeafletMeasureControlModel",
          "model_module_version": "^0.16.0",
          "state": {
            "_custom_units": {},
            "_model_module": "jupyter-leaflet",
            "_model_module_version": "^0.16.0",
            "_model_name": "LeafletMeasureControlModel",
            "_view_count": null,
            "_view_module": "jupyter-leaflet",
            "_view_module_version": "^0.16.0",
            "_view_name": "LeafletMeasureControlView",
            "active_color": "orange",
            "capture_z_index": 10000,
            "completed_color": "#C8F2BE",
            "options": [
              "active_color",
              "capture_z_index",
              "completed_color",
              "popup_options",
              "position",
              "primary_area_unit",
              "primary_length_unit",
              "secondary_area_unit",
              "secondary_length_unit"
            ],
            "popup_options": {
              "className": "leaflet-measure-resultpopup",
              "autoPanPadding": [
                10,
                10
              ]
            },
            "position": "bottomleft",
            "primary_area_unit": "acres",
            "primary_length_unit": "kilometers",
            "secondary_area_unit": null,
            "secondary_length_unit": null
          }
        },
        "9da724d15fdc44fe84bb6bac67c1d091": {
          "model_module": "jupyter-leaflet",
          "model_name": "LeafletAttributionControlModel",
          "model_module_version": "^0.16.0",
          "state": {
            "_model_module": "jupyter-leaflet",
            "_model_module_version": "^0.16.0",
            "_model_name": "LeafletAttributionControlModel",
            "_view_count": null,
            "_view_module": "jupyter-leaflet",
            "_view_module_version": "^0.16.0",
            "_view_name": "LeafletAttributionControlView",
            "options": [
              "position",
              "prefix"
            ],
            "position": "bottomright",
            "prefix": "ipyleaflet"
          }
        },
        "cc917760a3b24fe6a2f5dad3f7f5191e": {
          "model_module": "jupyter-leaflet",
          "model_name": "LeafletDrawControlModel",
          "model_module_version": "^0.16.0",
          "state": {
            "_model_module": "jupyter-leaflet",
            "_model_module_version": "^0.16.0",
            "_model_name": "LeafletDrawControlModel",
            "_view_count": null,
            "_view_module": "jupyter-leaflet",
            "_view_module_version": "^0.16.0",
            "_view_name": "LeafletDrawControlView",
            "circle": {
              "shapeOptions": {
                "color": "#3388ff"
              }
            },
            "circlemarker": {},
            "data": [],
            "edit": true,
            "marker": {
              "shapeOptions": {
                "color": "#3388ff"
              }
            },
            "options": [
              "position"
            ],
            "polygon": {
              "shapeOptions": {}
            },
            "polyline": {
              "shapeOptions": {}
            },
            "position": "topleft",
            "rectangle": {
              "shapeOptions": {
                "color": "#3388ff"
              }
            },
            "remove": true
          }
        },
        "bb22adb08b7e4c3f9fafa09127fbc60b": {
          "model_module": "jupyter-leaflet",
          "model_name": "LeafletWidgetControlModel",
          "model_module_version": "^0.16.0",
          "state": {
            "_model_module": "jupyter-leaflet",
            "_model_module_version": "^0.16.0",
            "_model_name": "LeafletWidgetControlModel",
            "_view_count": null,
            "_view_module": "jupyter-leaflet",
            "_view_module_version": "^0.16.0",
            "_view_name": "LeafletWidgetControlView",
            "max_height": null,
            "max_width": null,
            "min_height": null,
            "min_width": null,
            "options": [
              "position",
              "transparent_bg"
            ],
            "position": "topright",
            "transparent_bg": false,
            "widget": "IPY_MODEL_3ec2045f57104092bb89b584c8009fc5"
          }
        },
        "241e2f7d184f4002bc5dcd9e1160c1cd": {
          "model_module": "jupyter-leaflet",
          "model_name": "LeafletMapStyleModel",
          "model_module_version": "^0.16.0",
          "state": {
            "_model_module": "jupyter-leaflet",
            "_model_module_version": "^0.16.0",
            "_model_name": "LeafletMapStyleModel",
            "_view_count": null,
            "_view_module": "@jupyter-widgets/base",
            "_view_module_version": "1.2.0",
            "_view_name": "StyleView",
            "cursor": "grab"
          }
        },
        "4d70696d60d242ee897421be59c709f1": {
          "model_module": "jupyter-leaflet",
          "model_name": "LeafletMapStyleModel",
          "model_module_version": "^0.16.0",
          "state": {
            "_model_module": "jupyter-leaflet",
            "_model_module_version": "^0.16.0",
            "_model_name": "LeafletMapStyleModel",
            "_view_count": null,
            "_view_module": "@jupyter-widgets/base",
            "_view_module_version": "1.2.0",
            "_view_name": "StyleView",
            "cursor": "move"
          }
        },
        "066299547a0a4884bda1e6f96c793751": {
          "model_module": "jupyter-leaflet",
          "model_name": "LeafletTileLayerModel",
          "model_module_version": "^0.16.0",
          "state": {
            "_model_module": "jupyter-leaflet",
            "_model_module_version": "^0.16.0",
            "_model_name": "LeafletTileLayerModel",
            "_view_count": null,
            "_view_module": "jupyter-leaflet",
            "_view_module_version": "^0.16.0",
            "_view_name": "LeafletTileLayerView",
            "attribution": "&copy; <a href=\"https://www.openstreetmap.org/copyright\">OpenStreetMap</a> contributors",
            "base": true,
            "bottom": true,
            "bounds": null,
            "detect_retina": false,
            "loading": false,
            "max_native_zoom": 18,
            "max_zoom": 19,
            "min_native_zoom": 0,
            "min_zoom": 1,
            "name": "OpenStreetMap.Mapnik",
            "no_wrap": false,
            "opacity": 1,
            "options": [
              "attribution",
              "bounds",
              "detect_retina",
              "max_native_zoom",
              "max_zoom",
              "min_native_zoom",
              "min_zoom",
              "no_wrap",
              "tile_size",
              "tms"
            ],
            "popup": null,
            "popup_max_height": null,
            "popup_max_width": 300,
            "popup_min_width": 50,
            "show_loading": false,
            "tile_size": 256,
            "tms": false,
            "url": "https://a.tile.openstreetmap.org/{z}/{x}/{y}.png",
            "visible": true
          }
        },
        "2f2e912c6d604f73866e092c0117ab60": {
          "model_module": "jupyter-leaflet",
          "model_name": "LeafletTileLayerModel",
          "model_module_version": "^0.16.0",
          "state": {
            "_model_module": "jupyter-leaflet",
            "_model_module_version": "^0.16.0",
            "_model_name": "LeafletTileLayerModel",
            "_view_count": null,
            "_view_module": "jupyter-leaflet",
            "_view_module_version": "^0.16.0",
            "_view_name": "LeafletTileLayerView",
            "attribution": "Google Earth Engine",
            "base": false,
            "bottom": true,
            "bounds": null,
            "detect_retina": false,
            "loading": false,
            "max_native_zoom": 18,
            "max_zoom": 24,
            "min_native_zoom": 0,
            "min_zoom": 0,
            "name": "faiComposite",
            "no_wrap": false,
            "opacity": 1,
            "options": [
              "attribution",
              "bounds",
              "detect_retina",
              "max_native_zoom",
              "max_zoom",
              "min_native_zoom",
              "min_zoom",
              "no_wrap",
              "tile_size",
              "tms"
            ],
            "popup": null,
            "popup_max_height": null,
            "popup_max_width": 300,
            "popup_min_width": 50,
            "show_loading": false,
            "tile_size": 256,
            "tms": false,
            "url": "https://earthengine.googleapis.com/v1alpha/projects/earthengine-legacy/maps/9f4749c990dc9050ebfa00ded74ea1b4-c3ca573696c3e6f5aa5efb18314d9a99/tiles/{z}/{x}/{y}",
            "visible": true
          }
        },
        "dc89381c61ea4ae6ac1a0d0bb8fba74b": {
          "model_module": "@jupyter-widgets/base",
          "model_name": "LayoutModel",
          "model_module_version": "1.2.0",
          "state": {
            "_model_module": "@jupyter-widgets/base",
            "_model_module_version": "1.2.0",
            "_model_name": "LayoutModel",
            "_view_count": null,
            "_view_module": "@jupyter-widgets/base",
            "_view_module_version": "1.2.0",
            "_view_name": "LayoutView",
            "align_content": null,
            "align_items": null,
            "align_self": null,
            "border": null,
            "bottom": null,
            "display": null,
            "flex": null,
            "flex_flow": null,
            "grid_area": null,
            "grid_auto_columns": null,
            "grid_auto_flow": null,
            "grid_auto_rows": null,
            "grid_column": null,
            "grid_gap": null,
            "grid_row": null,
            "grid_template_areas": null,
            "grid_template_columns": null,
            "grid_template_rows": null,
            "height": "600px",
            "justify_content": null,
            "justify_items": null,
            "left": null,
            "margin": null,
            "max_height": null,
            "max_width": null,
            "min_height": null,
            "min_width": null,
            "object_fit": null,
            "object_position": null,
            "order": null,
            "overflow": null,
            "overflow_x": null,
            "overflow_y": null,
            "padding": null,
            "right": null,
            "top": null,
            "visibility": null,
            "width": null
          }
        },
        "d3717661a5cb45bd82c6382becb637a6": {
          "model_module": "jupyter-leaflet",
          "model_name": "LeafletMapStyleModel",
          "model_module_version": "^0.16.0",
          "state": {
            "_model_module": "jupyter-leaflet",
            "_model_module_version": "^0.16.0",
            "_model_name": "LeafletMapStyleModel",
            "_view_count": null,
            "_view_module": "@jupyter-widgets/base",
            "_view_module_version": "1.2.0",
            "_view_name": "StyleView",
            "cursor": "grab"
          }
        },
        "cdbd1c7373f44742b73711561bb8e2c0": {
          "model_module": "@jupyter-widgets/controls",
          "model_name": "HBoxModel",
          "model_module_version": "1.5.0",
          "state": {
            "_dom_classes": [],
            "_model_module": "@jupyter-widgets/controls",
            "_model_module_version": "1.5.0",
            "_model_name": "HBoxModel",
            "_view_count": null,
            "_view_module": "@jupyter-widgets/controls",
            "_view_module_version": "1.5.0",
            "_view_name": "HBoxView",
            "box_style": "",
            "children": [
              "IPY_MODEL_3238d6f21887462ea5b11d63cfcdba90"
            ],
            "layout": "IPY_MODEL_df7bd66017a94b41ac1dcd3dd893681d"
          }
        },
        "3ec2045f57104092bb89b584c8009fc5": {
          "model_module": "@jupyter-widgets/controls",
          "model_name": "VBoxModel",
          "model_module_version": "1.5.0",
          "state": {
            "_dom_classes": [],
            "_model_module": "@jupyter-widgets/controls",
            "_model_module_version": "1.5.0",
            "_model_name": "VBoxModel",
            "_view_count": null,
            "_view_module": "@jupyter-widgets/controls",
            "_view_module_version": "1.5.0",
            "_view_name": "VBoxView",
            "box_style": "",
            "children": [
              "IPY_MODEL_ab0017591ebb47beae663390d0235c8b"
            ],
            "layout": "IPY_MODEL_329d9068f74646bc9a87316955122cb6"
          }
        },
        "3238d6f21887462ea5b11d63cfcdba90": {
          "model_module": "@jupyter-widgets/controls",
          "model_name": "ToggleButtonModel",
          "model_module_version": "1.5.0",
          "state": {
            "_dom_classes": [],
            "_model_module": "@jupyter-widgets/controls",
            "_model_module_version": "1.5.0",
            "_model_name": "ToggleButtonModel",
            "_view_count": null,
            "_view_module": "@jupyter-widgets/controls",
            "_view_module_version": "1.5.0",
            "_view_name": "ToggleButtonView",
            "button_style": "",
            "description": "",
            "description_tooltip": null,
            "disabled": false,
            "icon": "globe",
            "layout": "IPY_MODEL_32f9b14b28434affa791f9b6eb4db4e8",
            "style": "IPY_MODEL_769b37d41e1f4ee5b58f6dd723997233",
            "tooltip": "Search location/data",
            "value": false
          }
        },
        "df7bd66017a94b41ac1dcd3dd893681d": {
          "model_module": "@jupyter-widgets/base",
          "model_name": "LayoutModel",
          "model_module_version": "1.2.0",
          "state": {
            "_model_module": "@jupyter-widgets/base",
            "_model_module_version": "1.2.0",
            "_model_name": "LayoutModel",
            "_view_count": null,
            "_view_module": "@jupyter-widgets/base",
            "_view_module_version": "1.2.0",
            "_view_name": "LayoutView",
            "align_content": null,
            "align_items": null,
            "align_self": null,
            "border": null,
            "bottom": null,
            "display": null,
            "flex": null,
            "flex_flow": null,
            "grid_area": null,
            "grid_auto_columns": null,
            "grid_auto_flow": null,
            "grid_auto_rows": null,
            "grid_column": null,
            "grid_gap": null,
            "grid_row": null,
            "grid_template_areas": null,
            "grid_template_columns": null,
            "grid_template_rows": null,
            "height": null,
            "justify_content": null,
            "justify_items": null,
            "left": null,
            "margin": null,
            "max_height": null,
            "max_width": null,
            "min_height": null,
            "min_width": null,
            "object_fit": null,
            "object_position": null,
            "order": null,
            "overflow": null,
            "overflow_x": null,
            "overflow_y": null,
            "padding": null,
            "right": null,
            "top": null,
            "visibility": null,
            "width": null
          }
        },
        "ab0017591ebb47beae663390d0235c8b": {
          "model_module": "@jupyter-widgets/controls",
          "model_name": "ToggleButtonModel",
          "model_module_version": "1.5.0",
          "state": {
            "_dom_classes": [],
            "_model_module": "@jupyter-widgets/controls",
            "_model_module_version": "1.5.0",
            "_model_name": "ToggleButtonModel",
            "_view_count": null,
            "_view_module": "@jupyter-widgets/controls",
            "_view_module_version": "1.5.0",
            "_view_name": "ToggleButtonView",
            "button_style": "",
            "description": "",
            "description_tooltip": null,
            "disabled": false,
            "icon": "wrench",
            "layout": "IPY_MODEL_09b1f704f592430e9d4c932a7cc1477e",
            "style": "IPY_MODEL_0ba98e7ff7274afe8c7eba3c43ee43f9",
            "tooltip": "Toolbar",
            "value": false
          }
        },
        "329d9068f74646bc9a87316955122cb6": {
          "model_module": "@jupyter-widgets/base",
          "model_name": "LayoutModel",
          "model_module_version": "1.2.0",
          "state": {
            "_model_module": "@jupyter-widgets/base",
            "_model_module_version": "1.2.0",
            "_model_name": "LayoutModel",
            "_view_count": null,
            "_view_module": "@jupyter-widgets/base",
            "_view_module_version": "1.2.0",
            "_view_name": "LayoutView",
            "align_content": null,
            "align_items": null,
            "align_self": null,
            "border": null,
            "bottom": null,
            "display": null,
            "flex": null,
            "flex_flow": null,
            "grid_area": null,
            "grid_auto_columns": null,
            "grid_auto_flow": null,
            "grid_auto_rows": null,
            "grid_column": null,
            "grid_gap": null,
            "grid_row": null,
            "grid_template_areas": null,
            "grid_template_columns": null,
            "grid_template_rows": null,
            "height": null,
            "justify_content": null,
            "justify_items": null,
            "left": null,
            "margin": null,
            "max_height": null,
            "max_width": null,
            "min_height": null,
            "min_width": null,
            "object_fit": null,
            "object_position": null,
            "order": null,
            "overflow": null,
            "overflow_x": null,
            "overflow_y": null,
            "padding": null,
            "right": null,
            "top": null,
            "visibility": null,
            "width": null
          }
        },
        "32f9b14b28434affa791f9b6eb4db4e8": {
          "model_module": "@jupyter-widgets/base",
          "model_name": "LayoutModel",
          "model_module_version": "1.2.0",
          "state": {
            "_model_module": "@jupyter-widgets/base",
            "_model_module_version": "1.2.0",
            "_model_name": "LayoutModel",
            "_view_count": null,
            "_view_module": "@jupyter-widgets/base",
            "_view_module_version": "1.2.0",
            "_view_name": "LayoutView",
            "align_content": null,
            "align_items": null,
            "align_self": null,
            "border": null,
            "bottom": null,
            "display": null,
            "flex": null,
            "flex_flow": null,
            "grid_area": null,
            "grid_auto_columns": null,
            "grid_auto_flow": null,
            "grid_auto_rows": null,
            "grid_column": null,
            "grid_gap": null,
            "grid_row": null,
            "grid_template_areas": null,
            "grid_template_columns": null,
            "grid_template_rows": null,
            "height": "28px",
            "justify_content": null,
            "justify_items": null,
            "left": null,
            "margin": null,
            "max_height": null,
            "max_width": null,
            "min_height": null,
            "min_width": null,
            "object_fit": null,
            "object_position": null,
            "order": null,
            "overflow": null,
            "overflow_x": null,
            "overflow_y": null,
            "padding": "0px 0px 0px 4px",
            "right": null,
            "top": null,
            "visibility": null,
            "width": "28px"
          }
        },
        "769b37d41e1f4ee5b58f6dd723997233": {
          "model_module": "@jupyter-widgets/controls",
          "model_name": "DescriptionStyleModel",
          "model_module_version": "1.5.0",
          "state": {
            "_model_module": "@jupyter-widgets/controls",
            "_model_module_version": "1.5.0",
            "_model_name": "DescriptionStyleModel",
            "_view_count": null,
            "_view_module": "@jupyter-widgets/base",
            "_view_module_version": "1.2.0",
            "_view_name": "StyleView",
            "description_width": ""
          }
        },
        "09b1f704f592430e9d4c932a7cc1477e": {
          "model_module": "@jupyter-widgets/base",
          "model_name": "LayoutModel",
          "model_module_version": "1.2.0",
          "state": {
            "_model_module": "@jupyter-widgets/base",
            "_model_module_version": "1.2.0",
            "_model_name": "LayoutModel",
            "_view_count": null,
            "_view_module": "@jupyter-widgets/base",
            "_view_module_version": "1.2.0",
            "_view_name": "LayoutView",
            "align_content": null,
            "align_items": null,
            "align_self": null,
            "border": null,
            "bottom": null,
            "display": null,
            "flex": null,
            "flex_flow": null,
            "grid_area": null,
            "grid_auto_columns": null,
            "grid_auto_flow": null,
            "grid_auto_rows": null,
            "grid_column": null,
            "grid_gap": null,
            "grid_row": null,
            "grid_template_areas": null,
            "grid_template_columns": null,
            "grid_template_rows": null,
            "height": "28px",
            "justify_content": null,
            "justify_items": null,
            "left": null,
            "margin": null,
            "max_height": null,
            "max_width": null,
            "min_height": null,
            "min_width": null,
            "object_fit": null,
            "object_position": null,
            "order": null,
            "overflow": null,
            "overflow_x": null,
            "overflow_y": null,
            "padding": "0px 0px 0px 4px",
            "right": null,
            "top": null,
            "visibility": null,
            "width": "28px"
          }
        },
        "0ba98e7ff7274afe8c7eba3c43ee43f9": {
          "model_module": "@jupyter-widgets/controls",
          "model_name": "DescriptionStyleModel",
          "model_module_version": "1.5.0",
          "state": {
            "_model_module": "@jupyter-widgets/controls",
            "_model_module_version": "1.5.0",
            "_model_name": "DescriptionStyleModel",
            "_view_count": null,
            "_view_module": "@jupyter-widgets/base",
            "_view_module_version": "1.2.0",
            "_view_name": "StyleView",
            "description_width": ""
          }
        }
      }
    }
  },
  "cells": [
    {
      "cell_type": "markdown",
      "metadata": {
        "id": "view-in-github",
        "colab_type": "text"
      },
      "source": [
        "<a href=\"https://colab.research.google.com/github/zwfswt/GEE/blob/main/S2_FAI1.ipynb\" target=\"_parent\"><img src=\"https://colab.research.google.com/assets/colab-badge.svg\" alt=\"Open In Colab\"/></a>"
      ]
    },
    {
      "cell_type": "code",
      "execution_count": null,
      "metadata": {
        "id": "xux2mw7xH_mI"
      },
      "outputs": [],
      "source": [
        "# var S2_FAI = image.expression(\n",
        "#     '(NIR-RED)-0.1772*(SWIR-NIR)', {\n",
        "#       'NIR': image.select('B8').multiply(0.0001),\n",
        "#       'RED': image.select('B4').multiply(0.0001),\n",
        "#       'SWIR': image.select('B11').multiply(0.0001)\n",
        "# }).rename('S2_FAI');"
      ]
    },
    {
      "cell_type": "code",
      "source": [
        "import ee\n",
        "ee.Authenticate()\n",
        "ee.Initialize()"
      ],
      "metadata": {
        "colab": {
          "base_uri": "https://localhost:8080/"
        },
        "id": "WzJWi9zhJznt",
        "outputId": "8e1a7846-9b92-4017-9fb0-7e7f6509a898"
      },
      "execution_count": null,
      "outputs": [
        {
          "output_type": "stream",
          "name": "stdout",
          "text": [
            "To authorize access needed by Earth Engine, open the following URL in a web browser and follow the instructions. If the web browser does not start automatically, please manually browse the URL below.\n",
            "\n",
            "    https://code.earthengine.google.com/client-auth?scopes=https%3A//www.googleapis.com/auth/earthengine%20https%3A//www.googleapis.com/auth/devstorage.full_control&request_id=QYzs1ddMmgH1EyTVWLoGLcmrsP83lOy6IHJDO4mZENY&tc=GBeCxWGgm6Kq6a9qoG3yQsmHVcjcAXEoUA8DWcwf_a0&cc=7SyIwg3U2WJFkZ01XEYAESgUDFcwmBpyMGT8BctyZz4\n",
            "\n",
            "The authorization workflow will generate a code, which you should paste in the box below. \n",
            "Enter verification code: 4/1AX4XfWhSXMmXS6rmE7Jxrk3aP-dWrVlnUgaSJn79_GRVPpxYAQo9RBSlD3w\n",
            "\n",
            "Successfully saved authorization token.\n"
          ]
        }
      ]
    },
    {
      "cell_type": "code",
      "source": [
        "try:\n",
        "    import geemap\n",
        "except ModuleNotFoundError:\n",
        "    if 'google.colab' in str(get_ipython()):\n",
        "        print('geemap not found, installing via pip in Google Colab...')\n",
        "        !pip install geemap --quiet\n",
        "        import geemap\n",
        "    else:\n",
        "        print('geemap not found, please install via conda in your environment')"
      ],
      "metadata": {
        "colab": {
          "base_uri": "https://localhost:8080/",
          "height": 586
        },
        "id": "MhiuXCdrJzqj",
        "outputId": "11338115-8b0d-4903-ab28-366d2709c0f5"
      },
      "execution_count": null,
      "outputs": [
        {
          "output_type": "stream",
          "name": "stdout",
          "text": [
            "geemap not found, installing via pip in Google Colab...\n",
            "\u001b[K     |████████████████████████████████| 2.0 MB 5.1 MB/s \n",
            "\u001b[K     |████████████████████████████████| 1.3 MB 48.0 MB/s \n",
            "\u001b[K     |████████████████████████████████| 95 kB 3.1 MB/s \n",
            "\u001b[K     |████████████████████████████████| 1.2 MB 38.0 MB/s \n",
            "\u001b[K     |████████████████████████████████| 8.7 MB 35.5 MB/s \n",
            "\u001b[K     |████████████████████████████████| 99 kB 7.4 MB/s \n",
            "\u001b[K     |████████████████████████████████| 3.0 MB 52.7 MB/s \n",
            "\u001b[K     |████████████████████████████████| 98 kB 6.9 MB/s \n",
            "\u001b[K     |████████████████████████████████| 130 kB 46.6 MB/s \n",
            "\u001b[K     |████████████████████████████████| 46 kB 2.9 MB/s \n",
            "\u001b[K     |████████████████████████████████| 3.3 MB 68.4 MB/s \n",
            "\u001b[K     |████████████████████████████████| 187 kB 46.6 MB/s \n",
            "\u001b[K     |████████████████████████████████| 128 kB 58.4 MB/s \n",
            "\u001b[K     |████████████████████████████████| 53 kB 984 kB/s \n",
            "\u001b[K     |████████████████████████████████| 342 kB 45.7 MB/s \n",
            "\u001b[K     |████████████████████████████████| 428 kB 67.6 MB/s \n",
            "\u001b[K     |████████████████████████████████| 79 kB 6.5 MB/s \n",
            "\u001b[K     |████████████████████████████████| 561 kB 52.9 MB/s \n",
            "\u001b[K     |████████████████████████████████| 54 kB 2.4 MB/s \n",
            "\u001b[K     |████████████████████████████████| 130 kB 71.8 MB/s \n",
            "\u001b[K     |████████████████████████████████| 133 kB 69.8 MB/s \n",
            "\u001b[K     |████████████████████████████████| 75 kB 3.9 MB/s \n",
            "\u001b[?25h  Building wheel for ee-extra (setup.py) ... \u001b[?25l\u001b[?25hdone\n",
            "  Building wheel for json5 (setup.py) ... \u001b[?25l\u001b[?25hdone\n",
            "  Building wheel for pycrs (setup.py) ... \u001b[?25l\u001b[?25hdone\n",
            "  Building wheel for sankee (setup.py) ... \u001b[?25l\u001b[?25hdone\n",
            "\u001b[31mERROR: pip's dependency resolver does not currently take into account all the packages that are installed. This behaviour is the source of the following dependency conflicts.\n",
            "google-colab 1.0.0 requires tornado~=5.1.0; python_version >= \"3.0\", but you have tornado 6.1 which is incompatible.\n",
            "flask 1.1.4 requires Jinja2<3.0,>=2.10.1, but you have jinja2 3.1.2 which is incompatible.\n",
            "datascience 0.10.6 requires folium==0.2.1, but you have folium 0.12.1.post1 which is incompatible.\u001b[0m\n"
          ]
        }
      ]
    },
    {
      "cell_type": "code",
      "source": [
        "javascript_code = \"\"\"\n",
        "var S2_FAI = image.expression(\n",
        "    '(NIR-RED)-0.1772*(SWIR-NIR)', {\n",
        "      'NIR': image.select('B8').multiply(0.0001),\n",
        "      'RED': image.select('B4').multiply(0.0001),\n",
        "      'SWIR': image.select('B11').multiply(0.0001)\n",
        "}).rename('S2_FAI');\n",
        "\n",
        "\"\"\""
      ],
      "metadata": {
        "id": "oe50h2hBKFKQ"
      },
      "execution_count": null,
      "outputs": []
    },
    {
      "cell_type": "code",
      "source": [
        "lines = geemap.js_snippet_to_py(\n",
        "    javascript_code, add_new_cell=False,\n",
        "    import_ee=True, import_geemap=True, show_map=True)\n",
        "for line in lines:\n",
        "    print(line.rstrip())"
      ],
      "metadata": {
        "colab": {
          "base_uri": "https://localhost:8080/"
        },
        "id": "VosBp0CCKF3f",
        "outputId": "3f138455-c731-4e23-8b0d-2fe1d793c8ec"
      },
      "execution_count": null,
      "outputs": [
        {
          "output_type": "stream",
          "name": "stdout",
          "text": [
            "import ee\n",
            "import geemap\n",
            "Map = geemap.Map()\n",
            "\n",
            "S2_FAI = image.expression(\n",
            "    '(NIR-RED)-0.1772*(SWIR-NIR)', {\n",
            "      'NIR': image.select('B8').multiply(0.0001),\n",
            "      'RED': image.select('B4').multiply(0.0001),\n",
            "      'SWIR': image.select('B11').multiply(0.0001)\n",
            "}).rename('S2_FAI')\n",
            "Map\n"
          ]
        }
      ]
    },
    {
      "cell_type": "code",
      "source": [
        "# var S2_VB = image.expression(\n",
        "#     '(NIR-GREEN)-0.6195*(GREEN-RED)', {\n",
        "#       'NIR': image.select('B8').multiply(0.0001),\n",
        "#       'RED': image.select('B4').multiply(0.0001),\n",
        "#       'GREEN': image.select('B3').multiply(0.0001)\n",
        "# }).rename('S2_VB');"
      ],
      "metadata": {
        "id": "YMMoQYHkOL7F"
      },
      "execution_count": null,
      "outputs": []
    },
    {
      "cell_type": "code",
      "source": [
        "# import ee\n",
        "import geemap\n",
        "Map = geemap.Map()\n",
        "\n",
        "# geometry = ee.Geometry.Polygon(\n",
        "#                [[124.05,32.27],\n",
        "#                [124.05,34.38],\n",
        "#                [121.54,34.38],\n",
        "#                [121.54,32.27]])\n",
        "# print(geometry)\n",
        "# Map.addLayer(geometry,{},'geometry')\n",
        "geometry = ee.Geometry.Polygon(\n",
        "            [[122.893,37.614],\n",
        "            [122.761,37.055],\n",
        "            [122.365,36.774],\n",
        "            [121.311,36.544],\n",
        "            [120.563,35.853],\n",
        "            [119.729,35.209],\n",
        "            [119.663,34.795],\n",
        "            [120.300,34.325],\n",
        "            [121.003,33.082],\n",
        "            [121.662,32.249],\n",
        "            [122.145,31.802],\n",
        "            [122.145,31.165],\n",
        "            [122.255,30.240],\n",
        "            [121.992,29.075],\n",
        "            [121.530,27.761],\n",
        "            [120.520,26.765],\n",
        "            [119.992,26.096],\n",
        "            [120.388,25.423],\n",
        "            [122.629,25.443],\n",
        "            [125.397,25.502],\n",
        "            [127.001,26.352],\n",
        "            [128.825,29.017],\n",
        "            [128.957,31.952],\n",
        "            [128.715,32.398],\n",
        "            [127.331,33.266],\n",
        "            [126.123,34.143],\n",
        "            [125.683,35.227],\n",
        "            [125.925,37.002],\n",
        "            [124.958,37.822],\n",
        "            [122.893,37.614]])\n",
        "# # geometry = ee.FeatureCollection(geom)\n",
        "Map.centerObject(geometry,7)\n",
        "s2 = ee.ImageCollection(\"COPERNICUS/S2\")\n",
        "rgbVis = {\n",
        "  'min': 0.0,\n",
        "  'max': 3000,\n",
        "  'bands': ['B8', 'B4', 'B3']\n",
        "}\n",
        "def maskS2clouds(image):\n",
        "  qa = image.select('QA60')\n",
        "  cloudBitMask = 1 << 10\n",
        "  cirrusBitMask = 1 << 11\n",
        "  mask = qa.bitwiseAnd(cloudBitMask).eq(0).And(\n",
        "             qa.bitwiseAnd(cirrusBitMask).eq(0))\n",
        "  return image.updateMask(mask) \\\n",
        "      .select(\"B.*\") \\\n",
        "      .copyProperties(image, [\"system:time_start\"])\n",
        "\n",
        "filtered = s2 \\\n",
        "  .filter(ee.Filter.date('2022-05-05', '2022-05-07')) \\\n",
        "  .filter(ee.Filter.bounds(geometry)) \\\n",
        "  .map(maskS2clouds)\n",
        "def addNDVI(image):\n",
        "  ndvi = image.normalizedDifference(['B5', 'B4']).rename('ndvi')\n",
        "  return image.addBands(ndvi)\n",
        "def addFAI(image):\n",
        "  s2_fai = image.expression('(NIR-RED)-0.1772*(SWIR-NIR)',{\n",
        "      'NIR': image.select('B8').multiply(0.0001),\n",
        "      'RED': image.select('B4').multiply(0.0001),\n",
        "      'SWIR': image.select('B11').multiply(0.0001)}).rename('s2_fai')\n",
        "  return image.addBands(s2_fai)\n",
        "def addVB(image):\n",
        "  s2_vb = image.expression('(NIR-GREEN)-0.6195*(GREEN-RED)',{\n",
        "      'NIR': image.select('B8').multiply(0.0001),\n",
        "      'RED': image.select('B4').multiply(0.0001),\n",
        "      'GREEN': image.select('B3').multiply(0.0001)}).rename('s2_vb')\n",
        "  return image.addBands(s2_vb)\n",
        "\n",
        "\n",
        "withNdvi = filtered.map(addNDVI)\n",
        "withFAI=filtered.map(addFAI)\n",
        "withVB=filtered.map(addVB)\n",
        "\n",
        "composite1 = withNdvi.median()\n",
        "composite2 = withFAI.median()\n",
        "composite3 = withVB.median()\n",
        "ndviComposite = composite1.select('ndvi').clip(geometry)\n",
        "faiComposite = composite2.select('s2_fai').clip(geometry)\n",
        "vbComposite = composite3.select('s2_vb').clip(geometry)\n",
        "palette = [\n",
        "  'FFFFFF', 'CE7E45', 'DF923D', 'F1B555', 'FCD163', '99B718',\n",
        "  '74A901', '66A000', '529400', '3E8601', '207401', '056201',\n",
        "  '004C00', '023B01', '012E01', '011D01', '011301']\n",
        "palette1 = [\n",
        "  '333399','0294fa','24d36d','b6f08a','dbd085','92735e','b6a29d','ffffff']\n",
        "ndviVis = {'min':0, 'max':0.5, 'palette': palette1 }\n",
        "# Map.addLayer(withNdvi.select('ndvi'), ndviVis, 'NDVI Composite')\n",
        "# Map.addLayer(ndviComposite, ndviVis, 'ndviComposite')\n",
        "Map.addLayer(faiComposite, ndviVis, 'faiComposite')\n",
        "# Map.addLayer(vbComposite, ndviVis, 'vbComposite')\n",
        "# Map.addLayer(geometry,{},'geometry')\n",
        "Map"
      ],
      "metadata": {
        "colab": {
          "base_uri": "https://localhost:8080/",
          "height": 621,
          "referenced_widgets": [
            "fa0da3fef8c14d00a3e98f3064f3537c",
            "b33b347b0a5c479497b8279a66e84d2c",
            "135cd954b8984f7a978a26fa8de620f6",
            "106d40bda3ab400dbea19d180b85aa6a",
            "828404bcc1fb4625a7c36c91f63c0de2",
            "55e5b2d603c844879d57523fd42a2bdb",
            "9da724d15fdc44fe84bb6bac67c1d091",
            "cc917760a3b24fe6a2f5dad3f7f5191e",
            "bb22adb08b7e4c3f9fafa09127fbc60b",
            "241e2f7d184f4002bc5dcd9e1160c1cd",
            "4d70696d60d242ee897421be59c709f1",
            "066299547a0a4884bda1e6f96c793751",
            "23e707a4e87940a1a9078178de521a74",
            "2f2e912c6d604f73866e092c0117ab60",
            "dc89381c61ea4ae6ac1a0d0bb8fba74b",
            "d3717661a5cb45bd82c6382becb637a6",
            "cdbd1c7373f44742b73711561bb8e2c0",
            "3ec2045f57104092bb89b584c8009fc5",
            "3238d6f21887462ea5b11d63cfcdba90",
            "df7bd66017a94b41ac1dcd3dd893681d",
            "ab0017591ebb47beae663390d0235c8b",
            "329d9068f74646bc9a87316955122cb6",
            "32f9b14b28434affa791f9b6eb4db4e8",
            "769b37d41e1f4ee5b58f6dd723997233",
            "09b1f704f592430e9d4c932a7cc1477e",
            "0ba98e7ff7274afe8c7eba3c43ee43f9"
          ]
        },
        "id": "wlRAr5_TJzt8",
        "outputId": "d58b494b-a7e9-4877-9cde-e226597ceebd"
      },
      "execution_count": 18,
      "outputs": [
        {
          "output_type": "display_data",
          "data": {
            "text/plain": [
              "Map(center=[31.063237642174194, 124.41793733643824], controls=(WidgetControl(options=['position', 'transparent…"
            ],
            "application/vnd.jupyter.widget-view+json": {
              "version_major": 2,
              "version_minor": 0,
              "model_id": "fa0da3fef8c14d00a3e98f3064f3537c"
            }
          },
          "metadata": {
            "application/vnd.jupyter.widget-view+json": {
              "colab": {
                "custom_widget_manager": {
                  "url": "https://ssl.gstatic.com/colaboratory-static/widgets/colab-cdn-widget-manager/a8874ba6619b6106/manager.min.js"
                }
              }
            }
          }
        }
      ]
    },
    {
      "cell_type": "code",
      "source": [
        ""
      ],
      "metadata": {
        "id": "JHb7JtH8Jzwk"
      },
      "execution_count": null,
      "outputs": []
    },
    {
      "cell_type": "code",
      "source": [
        ""
      ],
      "metadata": {
        "id": "RSdC3Zo0Jzzb"
      },
      "execution_count": null,
      "outputs": []
    },
    {
      "cell_type": "code",
      "source": [
        ""
      ],
      "metadata": {
        "id": "h4Rz7K4aJz2U"
      },
      "execution_count": null,
      "outputs": []
    },
    {
      "cell_type": "code",
      "source": [
        ""
      ],
      "metadata": {
        "id": "JrszBy3qJz5E"
      },
      "execution_count": null,
      "outputs": []
    },
    {
      "cell_type": "code",
      "source": [
        ""
      ],
      "metadata": {
        "id": "oxKeqrJSJz8V"
      },
      "execution_count": null,
      "outputs": []
    }
  ]
}