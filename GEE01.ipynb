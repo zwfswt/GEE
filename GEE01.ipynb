{
  "nbformat": 4,
  "nbformat_minor": 0,
  "metadata": {
    "colab": {
      "name": "GEE01.ipynb",
      "provenance": [],
      "authorship_tag": "ABX9TyMrsZu9C4qEBi4jEUpuGD6f",
      "include_colab_link": true
    },
    "kernelspec": {
      "name": "python3",
      "display_name": "Python 3"
    },
    "language_info": {
      "name": "python"
    }
  },
  "cells": [
    {
      "cell_type": "markdown",
      "metadata": {
        "id": "view-in-github",
        "colab_type": "text"
      },
      "source": [
        "<a href=\"https://colab.research.google.com/github/zwfswt/GEE/blob/main/GEE01.ipynb\" target=\"_parent\"><img src=\"https://colab.research.google.com/assets/colab-badge.svg\" alt=\"Open In Colab\"/></a>"
      ]
    },
    {
      "cell_type": "markdown",
      "source": [
        "1. Colab和Cloud身份验证"
      ],
      "metadata": {
        "id": "WuV2AKGRjtbz"
      }
    },
    {
      "cell_type": "code",
      "source": [
        "from google.colab import auth\n",
        "auth.authenticate_user()"
      ],
      "metadata": {
        "id": "pNt7bvfOj8GH"
      },
      "execution_count": 1,
      "outputs": []
    },
    {
      "cell_type": "markdown",
      "source": [
        "2. 验证gee"
      ],
      "metadata": {
        "id": "Cn7AXafskPxX"
      }
    },
    {
      "cell_type": "code",
      "source": [
        "import ee\n",
        "ee.Authenticate()\n",
        "ee.Initialize()"
      ],
      "metadata": {
        "colab": {
          "base_uri": "https://localhost:8080/"
        },
        "id": "gMGQ-7QBkSoU",
        "outputId": "1310d797-af94-4ac8-a9b2-b1dbf3c5e776"
      },
      "execution_count": 2,
      "outputs": [
        {
          "output_type": "stream",
          "name": "stdout",
          "text": [
            "To authorize access needed by Earth Engine, open the following URL in a web browser and follow the instructions. If the web browser does not start automatically, please manually browse the URL below.\n",
            "\n",
            "    https://accounts.google.com/o/oauth2/auth?client_id=517222506229-vsmmajv00ul0bs7p89v5m89qs8eb9359.apps.googleusercontent.com&scope=https%3A%2F%2Fwww.googleapis.com%2Fauth%2Fearthengine+https%3A%2F%2Fwww.googleapis.com%2Fauth%2Fdevstorage.full_control&redirect_uri=urn%3Aietf%3Awg%3Aoauth%3A2.0%3Aoob&response_type=code&code_challenge=WjmbWb6zzEimy6bz7qvciARSsdTrqCBvGUjxHN7Egrg&code_challenge_method=S256\n",
            "\n",
            "The authorization workflow will generate a code, which you should paste in the box below. \n",
            "Enter verification code: 4/1AX4XfWhoFL6BLChd_36r2ldSV86PxIplHiAGTLLOOLHO0uDnio2Ni75UI7g\n",
            "\n",
            "Successfully saved authorization token.\n"
          ]
        }
      ]
    },
    {
      "cell_type": "markdown",
      "source": [
        "3. 导入tf"
      ],
      "metadata": {
        "id": "-4HsV9XHkfOq"
      }
    },
    {
      "cell_type": "code",
      "source": [
        "import tensorflow as tf\n",
        "print(tf.__version__)"
      ],
      "metadata": {
        "colab": {
          "base_uri": "https://localhost:8080/"
        },
        "id": "m0_TAjsmkhUX",
        "outputId": "03ab2f7f-ddf3-4d99-e87e-0993dde5e8d0"
      },
      "execution_count": 3,
      "outputs": [
        {
          "output_type": "stream",
          "name": "stdout",
          "text": [
            "2.8.0\n"
          ]
        }
      ]
    },
    {
      "cell_type": "markdown",
      "source": [
        "4. 导入folium"
      ],
      "metadata": {
        "id": "iOYjIpqNkkaW"
      }
    },
    {
      "cell_type": "code",
      "source": [
        "import folium\n",
        "print(folium.__version__)"
      ],
      "metadata": {
        "colab": {
          "base_uri": "https://localhost:8080/"
        },
        "id": "e4jAuIlckoIh",
        "outputId": "8f20d97a-a4ca-42e9-8c3f-6fbc0da66cee"
      },
      "execution_count": 4,
      "outputs": [
        {
          "output_type": "stream",
          "name": "stdout",
          "text": [
            "0.8.3\n"
          ]
        }
      ]
    },
    {
      "cell_type": "markdown",
      "source": [
        "5. 定义后面需要用到的变量"
      ],
      "metadata": {
        "id": "6E8GbbPikrBz"
      }
    },
    {
      "cell_type": "code",
      "source": [
        "# gee用户名\n",
        "USER_NAME = 'shangweitao456'\n",
        "\n",
        "# 桶名称\n",
        "OUTPUT_BUCKET = 'swtswt'\n",
        "\n",
        "# L8表面反射率数据\n",
        "L8SR = ee.ImageCollection('LANDSAT/LC08/C01/T1_SR')\n",
        "# 6个波段\n",
        "BANDS = ['B2', 'B3', 'B4', 'B5', 'B6', 'B7']\n",
        "\n",
        "# 官网给的98个点的标签\n",
        "LABEL_DATA = ee.FeatureCollection('projects/google/demo_landcover_labels')\n",
        "# 标签名称：土地覆盖\n",
        "LABEL = 'landcover'\n",
        "# 3个类\n",
        "N_CLASSES = 3\n",
        "\n",
        "# 训练数据的名称\n",
        "FEATURE_NAMES = list(BANDS)\n",
        "FEATURE_NAMES.append(LABEL)\n",
        "\n",
        "# 训练-测试前缀-文件格式-存储路径\n",
        "TRAIN_FILE_PREFIX = 'Training_demo'\n",
        "TEST_FILE_PREFIX = 'Testing_demo'\n",
        "file_extension = '.tfrecord.gz'\n",
        "TRAIN_FILE_PATH = 'gs://' + OUTPUT_BUCKET + '/' + TRAIN_FILE_PREFIX + file_extension\n",
        "TEST_FILE_PATH = 'gs://' + OUTPUT_BUCKET + '/' + TEST_FILE_PREFIX + file_extension\n",
        "\n",
        "# 预测数据集\n",
        "IMAGE_FILE_PREFIX = 'Image_pixel_demo_'\n",
        "\n",
        "# 分类影像输出\n",
        "OUTPUT_IMAGE_FILE = 'gs://' + OUTPUT_BUCKET + '/Classified_pixel_demo.TFRecord'\n",
        "# 导出影像范围\n",
        "EXPORT_REGION = ee.Geometry.Rectangle([-122.7, 37.3, -121.8, 38.00])\n",
        "# GEE资源名称\n",
        "OUTPUT_ASSET_ID = 'users/' + USER_NAME + '/Classified_pixel_demo'"
      ],
      "metadata": {
        "id": "ya4gI1FFkwJW"
      },
      "execution_count": 5,
      "outputs": []
    },
    {
      "cell_type": "markdown",
      "source": [
        "三个类别（裸露、植被、水）\n",
        "L8数据\n",
        "通过使用 folium 进行可视化检查合成"
      ],
      "metadata": {
        "id": "Aar7pAfvqbRA"
      }
    },
    {
      "cell_type": "code",
      "source": [
        "# 云掩膜函数，跟S2的一样\n",
        "def maskL8sr(image):\n",
        "  cloudShadowBitMask = ee.Number(2).pow(3).int()\n",
        "  cloudsBitMask = ee.Number(2).pow(5).int()\n",
        "  qa = image.select('pixel_qa')\n",
        "  mask = qa.bitwiseAnd(cloudShadowBitMask).eq(0).And(\n",
        "    qa.bitwiseAnd(cloudsBitMask).eq(0))\n",
        "  return image.updateMask(mask).select(BANDS).divide(10000)\n",
        "\n",
        "# 2018年平均值合成数据，记得好像推荐使用median\n",
        "image = L8SR.filterDate('2018-01-01', '2018-12-31').map(maskL8sr).median()\n",
        "\n",
        "# 可视化 getMapId\n",
        "mapid = image.getMapId({'bands': ['B4', 'B3', 'B2'], 'min': 0, 'max': 0.3})\n",
        "# folium.Map\n",
        "map = folium.Map(location=[38., -122.5])\n",
        "\n",
        "folium.TileLayer(\n",
        "    tiles=mapid['tile_fetcher'].url_format,\n",
        "    attr='Map Data &copy; <a href=\"https://earthengine.google.com/\">Google Earth Engine</a>',\n",
        "    overlay=True,\n",
        "    name='median composite',\n",
        "  ).add_to(map)\n",
        "map.add_child(folium.LayerControl())\n",
        "map\n",
        "# 这个地图效果挺好的"
      ],
      "metadata": {
        "colab": {
          "base_uri": "https://localhost:8080/",
          "height": 1000
        },
        "id": "GnmzCnqcq1a9",
        "outputId": "ade9ba4f-a2a7-487e-b3c4-72c58db99c2c"
      },
      "execution_count": 6,
      "outputs": [
        {
          "output_type": "execute_result",
          "data": {
            "text/html": [
              "<div style=\"width:100%;\"><div style=\"position:relative;width:100%;height:0;padding-bottom:60%;\"><span style=\"color:#565656\">Make this Notebook Trusted to load map: File -> Trust Notebook</span><iframe src=\"about:blank\" style=\"position:absolute;width:100%;height:100%;left:0;top:0;border:none !important;\" data-html=%3C%21DOCTYPE%20html%3E%0A%3Chead%3E%20%20%20%20%0A%20%20%20%20%3Cmeta%20http-equiv%3D%22content-type%22%20content%3D%22text/html%3B%20charset%3DUTF-8%22%20/%3E%0A%20%20%20%20%3Cscript%3EL_PREFER_CANVAS%3Dfalse%3B%20L_NO_TOUCH%3Dfalse%3B%20L_DISABLE_3D%3Dfalse%3B%3C/script%3E%0A%20%20%20%20%3Cscript%20src%3D%22https%3A//cdn.jsdelivr.net/npm/leaflet%401.4.0/dist/leaflet.js%22%3E%3C/script%3E%0A%20%20%20%20%3Cscript%20src%3D%22https%3A//code.jquery.com/jquery-1.12.4.min.js%22%3E%3C/script%3E%0A%20%20%20%20%3Cscript%20src%3D%22https%3A//maxcdn.bootstrapcdn.com/bootstrap/3.2.0/js/bootstrap.min.js%22%3E%3C/script%3E%0A%20%20%20%20%3Cscript%20src%3D%22https%3A//cdnjs.cloudflare.com/ajax/libs/Leaflet.awesome-markers/2.0.2/leaflet.awesome-markers.js%22%3E%3C/script%3E%0A%20%20%20%20%3Clink%20rel%3D%22stylesheet%22%20href%3D%22https%3A//cdn.jsdelivr.net/npm/leaflet%401.4.0/dist/leaflet.css%22/%3E%0A%20%20%20%20%3Clink%20rel%3D%22stylesheet%22%20href%3D%22https%3A//maxcdn.bootstrapcdn.com/bootstrap/3.2.0/css/bootstrap.min.css%22/%3E%0A%20%20%20%20%3Clink%20rel%3D%22stylesheet%22%20href%3D%22https%3A//maxcdn.bootstrapcdn.com/bootstrap/3.2.0/css/bootstrap-theme.min.css%22/%3E%0A%20%20%20%20%3Clink%20rel%3D%22stylesheet%22%20href%3D%22https%3A//maxcdn.bootstrapcdn.com/font-awesome/4.6.3/css/font-awesome.min.css%22/%3E%0A%20%20%20%20%3Clink%20rel%3D%22stylesheet%22%20href%3D%22https%3A//cdnjs.cloudflare.com/ajax/libs/Leaflet.awesome-markers/2.0.2/leaflet.awesome-markers.css%22/%3E%0A%20%20%20%20%3Clink%20rel%3D%22stylesheet%22%20href%3D%22https%3A//rawcdn.githack.com/python-visualization/folium/master/folium/templates/leaflet.awesome.rotate.css%22/%3E%0A%20%20%20%20%3Cstyle%3Ehtml%2C%20body%20%7Bwidth%3A%20100%25%3Bheight%3A%20100%25%3Bmargin%3A%200%3Bpadding%3A%200%3B%7D%3C/style%3E%0A%20%20%20%20%3Cstyle%3E%23map%20%7Bposition%3Aabsolute%3Btop%3A0%3Bbottom%3A0%3Bright%3A0%3Bleft%3A0%3B%7D%3C/style%3E%0A%20%20%20%20%0A%20%20%20%20%3Cmeta%20name%3D%22viewport%22%20content%3D%22width%3Ddevice-width%2C%0A%20%20%20%20%20%20%20%20initial-scale%3D1.0%2C%20maximum-scale%3D1.0%2C%20user-scalable%3Dno%22%20/%3E%0A%20%20%20%20%3Cstyle%3E%23map_34915b7285324fbd810d3449f9b832d4%20%7B%0A%20%20%20%20%20%20%20%20position%3A%20relative%3B%0A%20%20%20%20%20%20%20%20width%3A%20100.0%25%3B%0A%20%20%20%20%20%20%20%20height%3A%20100.0%25%3B%0A%20%20%20%20%20%20%20%20left%3A%200.0%25%3B%0A%20%20%20%20%20%20%20%20top%3A%200.0%25%3B%0A%20%20%20%20%20%20%20%20%7D%0A%20%20%20%20%3C/style%3E%0A%3C/head%3E%0A%3Cbody%3E%20%20%20%20%0A%20%20%20%20%0A%20%20%20%20%3Cdiv%20class%3D%22folium-map%22%20id%3D%22map_34915b7285324fbd810d3449f9b832d4%22%20%3E%3C/div%3E%0A%3C/body%3E%0A%3Cscript%3E%20%20%20%20%0A%20%20%20%20%0A%20%20%20%20%0A%20%20%20%20%20%20%20%20var%20bounds%20%3D%20null%3B%0A%20%20%20%20%0A%0A%20%20%20%20var%20map_34915b7285324fbd810d3449f9b832d4%20%3D%20L.map%28%0A%20%20%20%20%20%20%20%20%27map_34915b7285324fbd810d3449f9b832d4%27%2C%20%7B%0A%20%20%20%20%20%20%20%20center%3A%20%5B38.0%2C%20-122.5%5D%2C%0A%20%20%20%20%20%20%20%20zoom%3A%2010%2C%0A%20%20%20%20%20%20%20%20maxBounds%3A%20bounds%2C%0A%20%20%20%20%20%20%20%20layers%3A%20%5B%5D%2C%0A%20%20%20%20%20%20%20%20worldCopyJump%3A%20false%2C%0A%20%20%20%20%20%20%20%20crs%3A%20L.CRS.EPSG3857%2C%0A%20%20%20%20%20%20%20%20zoomControl%3A%20true%2C%0A%20%20%20%20%20%20%20%20%7D%29%3B%0A%0A%0A%20%20%20%20%0A%20%20%20%20var%20tile_layer_68a49af262404763b6dde8309defb1c3%20%3D%20L.tileLayer%28%0A%20%20%20%20%20%20%20%20%27https%3A//%7Bs%7D.tile.openstreetmap.org/%7Bz%7D/%7Bx%7D/%7By%7D.png%27%2C%0A%20%20%20%20%20%20%20%20%7B%0A%20%20%20%20%20%20%20%20%22attribution%22%3A%20null%2C%0A%20%20%20%20%20%20%20%20%22detectRetina%22%3A%20false%2C%0A%20%20%20%20%20%20%20%20%22maxNativeZoom%22%3A%2018%2C%0A%20%20%20%20%20%20%20%20%22maxZoom%22%3A%2018%2C%0A%20%20%20%20%20%20%20%20%22minZoom%22%3A%200%2C%0A%20%20%20%20%20%20%20%20%22noWrap%22%3A%20false%2C%0A%20%20%20%20%20%20%20%20%22opacity%22%3A%201%2C%0A%20%20%20%20%20%20%20%20%22subdomains%22%3A%20%22abc%22%2C%0A%20%20%20%20%20%20%20%20%22tms%22%3A%20false%0A%7D%29.addTo%28map_34915b7285324fbd810d3449f9b832d4%29%3B%0A%20%20%20%20var%20tile_layer_63f31978419f4b41a566ec232f9e9ca6%20%3D%20L.tileLayer%28%0A%20%20%20%20%20%20%20%20%27https%3A//earthengine.googleapis.com/v1alpha/projects/earthengine-legacy/maps/64e4b2fc56119a677e7ad7b56d62e7c7-86e2959c61845e43d302e1e064d2b048/tiles/%7Bz%7D/%7Bx%7D/%7By%7D%27%2C%0A%20%20%20%20%20%20%20%20%7B%0A%20%20%20%20%20%20%20%20%22attribution%22%3A%20%22Map%20Data%20%26copy%3B%20%3Ca%20href%3D%5C%22https%3A//earthengine.google.com/%5C%22%3EGoogle%20Earth%20Engine%3C/a%3E%22%2C%0A%20%20%20%20%20%20%20%20%22detectRetina%22%3A%20false%2C%0A%20%20%20%20%20%20%20%20%22maxNativeZoom%22%3A%2018%2C%0A%20%20%20%20%20%20%20%20%22maxZoom%22%3A%2018%2C%0A%20%20%20%20%20%20%20%20%22minZoom%22%3A%200%2C%0A%20%20%20%20%20%20%20%20%22noWrap%22%3A%20false%2C%0A%20%20%20%20%20%20%20%20%22opacity%22%3A%201%2C%0A%20%20%20%20%20%20%20%20%22subdomains%22%3A%20%22abc%22%2C%0A%20%20%20%20%20%20%20%20%22tms%22%3A%20false%0A%7D%29.addTo%28map_34915b7285324fbd810d3449f9b832d4%29%3B%0A%20%20%20%20%0A%20%20%20%20%20%20%20%20%20%20%20%20var%20layer_control_10191057cb1d47dcbc206ae0c018572b%20%3D%20%7B%0A%20%20%20%20%20%20%20%20%20%20%20%20%20%20%20%20base_layers%20%3A%20%7B%20%22openstreetmap%22%20%3A%20tile_layer_68a49af262404763b6dde8309defb1c3%2C%20%7D%2C%0A%20%20%20%20%20%20%20%20%20%20%20%20%20%20%20%20overlays%20%3A%20%7B%20%22median%20composite%22%20%3A%20tile_layer_63f31978419f4b41a566ec232f9e9ca6%2C%20%7D%0A%20%20%20%20%20%20%20%20%20%20%20%20%20%20%20%20%7D%3B%0A%20%20%20%20%20%20%20%20%20%20%20%20L.control.layers%28%0A%20%20%20%20%20%20%20%20%20%20%20%20%20%20%20%20layer_control_10191057cb1d47dcbc206ae0c018572b.base_layers%2C%0A%20%20%20%20%20%20%20%20%20%20%20%20%20%20%20%20layer_control_10191057cb1d47dcbc206ae0c018572b.overlays%2C%0A%20%20%20%20%20%20%20%20%20%20%20%20%20%20%20%20%7Bposition%3A%20%27topright%27%2C%0A%20%20%20%20%20%20%20%20%20%20%20%20%20%20%20%20%20collapsed%3A%20true%2C%0A%20%20%20%20%20%20%20%20%20%20%20%20%20%20%20%20%20autoZIndex%3A%20true%0A%20%20%20%20%20%20%20%20%20%20%20%20%20%20%20%20%7D%29.addTo%28map_34915b7285324fbd810d3449f9b832d4%29%3B%0A%20%20%20%20%20%20%20%20%20%20%20%20%0A%20%20%20%20%20%20%20%20%0A%3C/script%3E onload=\"this.contentDocument.open();this.contentDocument.write(    decodeURIComponent(this.getAttribute('data-html')));this.contentDocument.close();\" allowfullscreen webkitallowfullscreen mozallowfullscreen></iframe></div></div>"
            ],
            "text/plain": [
              "<folium.folium.Map at 0x7fa2d4951bd0>"
            ]
          },
          "metadata": {},
          "execution_count": 6
        }
      ]
    },
    {
      "cell_type": "markdown",
      "source": [
        "标签"
      ],
      "metadata": {
        "id": "E-bcUKTSrnJc"
      }
    },
    {
      "cell_type": "code",
      "source": [
        "# 样本点加载，这个好像从影像上把属性值提取到了\n",
        "sample = image.sampleRegions(\n",
        "  collection=LABEL_DATA, properties=[LABEL], scale=30).randomColumn()\n",
        "\n",
        "# 样本划分为7:3\n",
        "training = sample.filter(ee.Filter.lt('random', 0.7))\n",
        "testing = sample.filter(ee.Filter.gte('random', 0.7))\n",
        "\n",
        "from pprint import pprint\n",
        "\n",
        "# 打印点的属性\n",
        "pprint({'training': training.first().getInfo()})\n",
        "pprint({'testing': testing.first().getInfo()})"
      ],
      "metadata": {
        "colab": {
          "base_uri": "https://localhost:8080/"
        },
        "id": "HUn5y8wHryfm",
        "outputId": "a8131679-692c-4a5f-9983-953bcbe27f1c"
      },
      "execution_count": 7,
      "outputs": [
        {
          "output_type": "stream",
          "name": "stdout",
          "text": [
            "{'training': {'geometry': None,\n",
            "              'id': '00009f65e3c9ae02b84e_0',\n",
            "              'properties': {'B2': 0.05220000073313713,\n",
            "                             'B3': 0.062049999833106995,\n",
            "                             'B4': 0.03660000115633011,\n",
            "                             'B5': 0.01140000019222498,\n",
            "                             'B6': 0.006800000090152025,\n",
            "                             'B7': 0.005249999929219484,\n",
            "                             'landcover': 2,\n",
            "                             'random': 0.4019922015829136},\n",
            "              'type': 'Feature'}}\n",
            "{'testing': {'geometry': None,\n",
            "             'id': '0000642db5938d967908_0',\n",
            "             'properties': {'B2': 0.05829999968409538,\n",
            "                            'B3': 0.08560000360012054,\n",
            "                            'B4': 0.11620000004768372,\n",
            "                            'B5': 0.24390000104904175,\n",
            "                            'B6': 0.29600000381469727,\n",
            "                            'B7': 0.19820000231266022,\n",
            "                            'landcover': 1,\n",
            "                            'random': 0.7503564646324918},\n",
            "             'type': 'Feature'}}\n"
          ]
        }
      ]
    },
    {
      "cell_type": "markdown",
      "source": [
        "导出训练和测试数据"
      ],
      "metadata": {
        "id": "EjWMjSaNsahW"
      }
    },
    {
      "cell_type": "code",
      "source": [
        "# 检查桶\n",
        "print('Found Cloud Storage bucket.' if tf.io.gfile.exists('gs://' + OUTPUT_BUCKET) \n",
        "    else 'Can not find output Cloud Storage bucket.')"
      ],
      "metadata": {
        "colab": {
          "base_uri": "https://localhost:8080/"
        },
        "id": "aGbLkqpjsgCU",
        "outputId": "c30b6e0a-5148-451f-a7d4-9f5912bf9fa0"
      },
      "execution_count": 8,
      "outputs": [
        {
          "output_type": "stream",
          "name": "stdout",
          "text": [
            "Found Cloud Storage bucket.\n"
          ]
        }
      ]
    },
    {
      "cell_type": "markdown",
      "source": [
        "导出数据"
      ],
      "metadata": {
        "id": "rjv-AKVBstPW"
      }
    },
    {
      "cell_type": "code",
      "source": [
        "# 创建任务\n",
        "training_task = ee.batch.Export.table.toCloudStorage(\n",
        "  collection=training,\n",
        "  description='Training Export',\n",
        "  fileNamePrefix=TRAIN_FILE_PREFIX,\n",
        "  bucket=OUTPUT_BUCKET,\n",
        "  fileFormat='TFRecord',\n",
        "  selectors=FEATURE_NAMES)\n",
        "\n",
        "testing_task = ee.batch.Export.table.toCloudStorage(\n",
        "  collection=testing,\n",
        "  description='Testing Export',\n",
        "  fileNamePrefix=TEST_FILE_PREFIX,\n",
        "  bucket=OUTPUT_BUCKET,\n",
        "  fileFormat='TFRecord',\n",
        "  selectors=FEATURE_NAMES)"
      ],
      "metadata": {
        "id": "Q-3vQg61s0Sr"
      },
      "execution_count": 9,
      "outputs": []
    },
    {
      "cell_type": "markdown",
      "source": [
        "开始导出任务"
      ],
      "metadata": {
        "id": "iXRIPcm7s7uS"
      }
    },
    {
      "cell_type": "code",
      "source": [
        "# 开始任务\n",
        "training_task.start()\n",
        "testing_task.start()"
      ],
      "metadata": {
        "id": "KOlR2L1ts-zm"
      },
      "execution_count": 10,
      "outputs": []
    },
    {
      "cell_type": "markdown",
      "source": [
        "监测任务执行情况"
      ],
      "metadata": {
        "id": "faiGl17XtJlq"
      }
    },
    {
      "cell_type": "code",
      "source": [
        "# 打印所有任务\n",
        "pprint(ee.batch.Task.list())"
      ],
      "metadata": {
        "colab": {
          "base_uri": "https://localhost:8080/"
        },
        "id": "_6YkIzp9tQQl",
        "outputId": "5c57a622-00d7-4189-cb37-b81bce37092c"
      },
      "execution_count": 11,
      "outputs": [
        {
          "output_type": "stream",
          "name": "stdout",
          "text": [
            "[<Task 2IA3IBJ6CGONUEOC4MZ2AAWA EXPORT_FEATURES: Testing Export (COMPLETED)>,\n",
            " <Task 4WMOJVTFQCRCUYI7RIFPZFRG EXPORT_FEATURES: Training Export (COMPLETED)>,\n",
            " <Task V5VI35UGPJSK7JN54BW4LBUZ INGEST_IMAGE: Ingest image: \"projects/earthengine-legacy/assets/users/shangweitao456/Classified_pixel_demo\" (FAILED)>,\n",
            " <Task GVRJ5EUXRIYYI2YAVNB33XPU EXPORT_IMAGE: Image Export (COMPLETED)>,\n",
            " <Task T2OTCQUY6GXYTKRDB5JBGMTC EXPORT_FEATURES: Testing Export (COMPLETED)>,\n",
            " <Task 3JCDDKFL4M4LZY4DIUDHT2LK EXPORT_FEATURES: Training Export (COMPLETED)>,\n",
            " <Task HM76MGHMBAOJH6ONEJYIYSLW EXPORT_IMAGE: Image Export (COMPLETED)>,\n",
            " <Task KSUHBSS72U2HVXI2BJNT6PA3 EXPORT_FEATURES: Testing Export (COMPLETED)>,\n",
            " <Task U3SD7C3TKG26JCLXFN7CLY4Y EXPORT_FEATURES: Training Export (COMPLETED)>,\n",
            " <Task NAS53Y4T3M6TJKFCEXZ435M3 EXPORT_FEATURES: ndvi_shp (COMPLETED)>,\n",
            " <Task OWM7AOMMMRPAYWI4K5NPINYT EXPORT_IMAGE: Sentinel-NDVI (COMPLETED)>,\n",
            " <Task LAI3FYACW754G4NSRRSYG2C3 EXPORT_IMAGE: Sentinel-NDVI (COMPLETED)>,\n",
            " <Task T3KDSPY5X23QCS7IWEQU5HZP EXPORT_IMAGE: green_tide (COMPLETED)>,\n",
            " <Task WAP4544XRA3J3TKDHZ3NWK54 EXPORT_IMAGE: green_tide (FAILED)>,\n",
            " <Task REPJEXBB5F6OEN4GD3X2H5CC EXPORT_IMAGE: Flood_extent_raster (COMPLETED)>,\n",
            " <Task OAI6BIHNNBSEJYEDJ4XEJPGN EXPORT_IMAGE: Flood_extent_raster (COMPLETED)>,\n",
            " <Task CO5N3ZH6VLAT4WRUAJPI36LY EXPORT_FEATURES: Testing Export (COMPLETED)>,\n",
            " <Task VESXFB4IEE653EI3KXTCRYF3 EXPORT_FEATURES: Training Export (COMPLETED)>,\n",
            " <Task OGFXL4PZVRTPBQG6NETDFAI7 EXPORT_FEATURES: Testing Export (COMPLETED)>,\n",
            " <Task YRKXNWGH6DLGGXD3MK3U6FRM EXPORT_FEATURES: Training Export (COMPLETED)>,\n",
            " <Task WCEMXBAYBYLZZT3NXILLKWBV EXPORT_FEATURES: Testing Export (COMPLETED)>,\n",
            " <Task PBLIUQMG2YWHRLB2DPFQ43EB EXPORT_FEATURES: Training Export (COMPLETED)>,\n",
            " <Task N4Z6DRKWGGHFLNUFPDTBKLN7 EXPORT_FEATURES: Testing Export (COMPLETED)>,\n",
            " <Task AEUVJST2YBEVF2MOD2KHVNLQ EXPORT_FEATURES: Training Export (COMPLETED)>,\n",
            " <Task NLFQYZ4HEG3GKWRNE7URA7TW EXPORT_FEATURES: Testing Export (COMPLETED)>,\n",
            " <Task ALI4SA5Q37EES5QVSXTFS3WQ EXPORT_FEATURES: Training Export (COMPLETED)>,\n",
            " <Task FEY652GB3XY5EWUU766AKM3S EXPORT_FEATURES: Testing Export (COMPLETED)>,\n",
            " <Task TZKY3NMBZXOBGNAH33CWKKGD EXPORT_FEATURES: Training Export (COMPLETED)>,\n",
            " <Task 5K676CI2RTZWWDP6TRJK6IDD EXPORT_FEATURES: Testing Export (COMPLETED)>,\n",
            " <Task WAAOZWQ6KP7KLDP6YH6JU6GU EXPORT_FEATURES: Training Export (COMPLETED)>,\n",
            " <Task ARZG2KFKSUY5ZDTYS6GVB4IS EXPORT_FEATURES: Testing Export (COMPLETED)>,\n",
            " <Task VEUKOJ5UKU3MDAFBEY5PPL5S EXPORT_FEATURES: Training Export (COMPLETED)>,\n",
            " <Task THKVRE57E3SNUSZNGWSTZJJC EXPORT_FEATURES: Testing Export (COMPLETED)>,\n",
            " <Task SYSNL6H4OE2UK6TWABPBPLVX EXPORT_FEATURES: Training Export (COMPLETED)>,\n",
            " <Task P2F2W2GCFSOG2KOGEUHRXHSG EXPORT_FEATURES: Testing Export (COMPLETED)>,\n",
            " <Task 2JXMHRD4JDPD6HFZL7S3X4TK EXPORT_FEATURES: Training Export (COMPLETED)>,\n",
            " <Task BDSR7A36LAZ7FPK4QTD5GHGE EXPORT_IMAGE: L8_Export-LC08_119036_20210607 (FAILED)>,\n",
            " <Task KJYE6LLKPYCNTMSOYBHJTUW7 EXPORT_IMAGE: L8_Export-LC08_119036_20210623 (COMPLETED)>,\n",
            " <Task SENGKINEH2DLWP3LDHMS5US6 EXPORT_IMAGE: Sentinel-NDVI (COMPLETED)>,\n",
            " <Task L5ZFVKFPCQL7NL5FSXRP7GAI EXPORT_IMAGE: Sentinel-DVI (COMPLETED)>,\n",
            " <Task A2QX4TE4E5KRALXTM5Q4BNZW EXPORT_IMAGE: Sentinel-DVI (FAILED)>,\n",
            " <Task OAMYEIGWWG44XPN2KJX3DOWF EXPORT_IMAGE: Sentinel-DVI (FAILED)>,\n",
            " <Task PY4Q5WG7CUIVBUT2FQQ4NMCD EXPORT_FEATURES: image_sample_demo_shp (COMPLETED)>,\n",
            " <Task 3AOEYJJJSNAGQBOWD7ULBPQU EXPORT_FEATURES: image_sample_demo_prop_subset (COMPLETED)>,\n",
            " <Task XUZW3B27TKNUOUUJKTSLIWWA EXPORT_FEATURES: image_sample_demo_csv (COMPLETED)>]\n"
          ]
        }
      ]
    },
    {
      "cell_type": "markdown",
      "source": [
        "检查导出的文件是否存在"
      ],
      "metadata": {
        "id": "rWLvU3unuJK6"
      }
    },
    {
      "cell_type": "code",
      "source": [
        "print('Found training file.' if tf.io.gfile.exists(TRAIN_FILE_PATH) \n",
        "    else 'No training file found.')\n",
        "print('Found testing file.' if tf.io.gfile.exists(TEST_FILE_PATH) \n",
        "    else 'No testing file found.')"
      ],
      "metadata": {
        "colab": {
          "base_uri": "https://localhost:8080/"
        },
        "id": "D8VqOtxQuM0W",
        "outputId": "a8849fe9-c61c-4624-aa7f-89b27ee11500"
      },
      "execution_count": 12,
      "outputs": [
        {
          "output_type": "stream",
          "name": "stdout",
          "text": [
            "Found training file.\n",
            "Found testing file.\n"
          ]
        }
      ]
    },
    {
      "cell_type": "markdown",
      "source": [
        "导出影像"
      ],
      "metadata": {
        "id": "B1TzDaEvuSNX"
      }
    },
    {
      "cell_type": "code",
      "source": [
        "# 斑块大小，compressed：压缩\n",
        "image_export_options = {\n",
        "  'patchDimensions': [256, 256],\n",
        "  'maxFileSize': 104857600,\n",
        "  'compressed': True\n",
        "}\n",
        "\n",
        "# 设置任务\n",
        "image_task = ee.batch.Export.image.toCloudStorage(\n",
        "  image=image,\n",
        "  description='Image Export',\n",
        "  fileNamePrefix=IMAGE_FILE_PREFIX,\n",
        "  bucket=OUTPUT_BUCKET,\n",
        "  scale=30,\n",
        "  fileFormat='TFRecord',\n",
        "  region=EXPORT_REGION.toGeoJSON()['coordinates'],\n",
        "  formatOptions=image_export_options,\n",
        ")"
      ],
      "metadata": {
        "id": "y1DVzuVKuUVJ"
      },
      "execution_count": 13,
      "outputs": []
    },
    {
      "cell_type": "code",
      "source": [
        "# 开始执行任务\n",
        "image_task.start()"
      ],
      "metadata": {
        "id": "FYT-FpJXutam"
      },
      "execution_count": 14,
      "outputs": []
    },
    {
      "cell_type": "markdown",
      "source": [
        "监控任务进度"
      ],
      "metadata": {
        "id": "5G_tJN2nuziq"
      }
    },
    {
      "cell_type": "code",
      "source": [
        "# Print all tasks.\n",
        "pprint(ee.batch.Task.list())"
      ],
      "metadata": {
        "colab": {
          "base_uri": "https://localhost:8080/"
        },
        "id": "wZRu7xGHu0u0",
        "outputId": "23bf184c-8c4e-4e50-bc6d-663459ef9435"
      },
      "execution_count": 15,
      "outputs": [
        {
          "output_type": "stream",
          "name": "stdout",
          "text": [
            "[<Task A4XVDZI3RH4N36IFPZ7WYPMY EXPORT_IMAGE: Image Export (READY)>,\n",
            " <Task 2IA3IBJ6CGONUEOC4MZ2AAWA EXPORT_FEATURES: Testing Export (COMPLETED)>,\n",
            " <Task 4WMOJVTFQCRCUYI7RIFPZFRG EXPORT_FEATURES: Training Export (COMPLETED)>,\n",
            " <Task V5VI35UGPJSK7JN54BW4LBUZ INGEST_IMAGE: Ingest image: \"projects/earthengine-legacy/assets/users/shangweitao456/Classified_pixel_demo\" (FAILED)>,\n",
            " <Task GVRJ5EUXRIYYI2YAVNB33XPU EXPORT_IMAGE: Image Export (COMPLETED)>,\n",
            " <Task T2OTCQUY6GXYTKRDB5JBGMTC EXPORT_FEATURES: Testing Export (COMPLETED)>,\n",
            " <Task 3JCDDKFL4M4LZY4DIUDHT2LK EXPORT_FEATURES: Training Export (COMPLETED)>,\n",
            " <Task HM76MGHMBAOJH6ONEJYIYSLW EXPORT_IMAGE: Image Export (COMPLETED)>,\n",
            " <Task KSUHBSS72U2HVXI2BJNT6PA3 EXPORT_FEATURES: Testing Export (COMPLETED)>,\n",
            " <Task U3SD7C3TKG26JCLXFN7CLY4Y EXPORT_FEATURES: Training Export (COMPLETED)>,\n",
            " <Task NAS53Y4T3M6TJKFCEXZ435M3 EXPORT_FEATURES: ndvi_shp (COMPLETED)>,\n",
            " <Task OWM7AOMMMRPAYWI4K5NPINYT EXPORT_IMAGE: Sentinel-NDVI (COMPLETED)>,\n",
            " <Task LAI3FYACW754G4NSRRSYG2C3 EXPORT_IMAGE: Sentinel-NDVI (COMPLETED)>,\n",
            " <Task T3KDSPY5X23QCS7IWEQU5HZP EXPORT_IMAGE: green_tide (COMPLETED)>,\n",
            " <Task WAP4544XRA3J3TKDHZ3NWK54 EXPORT_IMAGE: green_tide (FAILED)>,\n",
            " <Task REPJEXBB5F6OEN4GD3X2H5CC EXPORT_IMAGE: Flood_extent_raster (COMPLETED)>,\n",
            " <Task OAI6BIHNNBSEJYEDJ4XEJPGN EXPORT_IMAGE: Flood_extent_raster (COMPLETED)>,\n",
            " <Task CO5N3ZH6VLAT4WRUAJPI36LY EXPORT_FEATURES: Testing Export (COMPLETED)>,\n",
            " <Task VESXFB4IEE653EI3KXTCRYF3 EXPORT_FEATURES: Training Export (COMPLETED)>,\n",
            " <Task OGFXL4PZVRTPBQG6NETDFAI7 EXPORT_FEATURES: Testing Export (COMPLETED)>,\n",
            " <Task YRKXNWGH6DLGGXD3MK3U6FRM EXPORT_FEATURES: Training Export (COMPLETED)>,\n",
            " <Task WCEMXBAYBYLZZT3NXILLKWBV EXPORT_FEATURES: Testing Export (COMPLETED)>,\n",
            " <Task PBLIUQMG2YWHRLB2DPFQ43EB EXPORT_FEATURES: Training Export (COMPLETED)>,\n",
            " <Task N4Z6DRKWGGHFLNUFPDTBKLN7 EXPORT_FEATURES: Testing Export (COMPLETED)>,\n",
            " <Task AEUVJST2YBEVF2MOD2KHVNLQ EXPORT_FEATURES: Training Export (COMPLETED)>,\n",
            " <Task NLFQYZ4HEG3GKWRNE7URA7TW EXPORT_FEATURES: Testing Export (COMPLETED)>,\n",
            " <Task ALI4SA5Q37EES5QVSXTFS3WQ EXPORT_FEATURES: Training Export (COMPLETED)>,\n",
            " <Task FEY652GB3XY5EWUU766AKM3S EXPORT_FEATURES: Testing Export (COMPLETED)>,\n",
            " <Task TZKY3NMBZXOBGNAH33CWKKGD EXPORT_FEATURES: Training Export (COMPLETED)>,\n",
            " <Task 5K676CI2RTZWWDP6TRJK6IDD EXPORT_FEATURES: Testing Export (COMPLETED)>,\n",
            " <Task WAAOZWQ6KP7KLDP6YH6JU6GU EXPORT_FEATURES: Training Export (COMPLETED)>,\n",
            " <Task ARZG2KFKSUY5ZDTYS6GVB4IS EXPORT_FEATURES: Testing Export (COMPLETED)>,\n",
            " <Task VEUKOJ5UKU3MDAFBEY5PPL5S EXPORT_FEATURES: Training Export (COMPLETED)>,\n",
            " <Task THKVRE57E3SNUSZNGWSTZJJC EXPORT_FEATURES: Testing Export (COMPLETED)>,\n",
            " <Task SYSNL6H4OE2UK6TWABPBPLVX EXPORT_FEATURES: Training Export (COMPLETED)>,\n",
            " <Task P2F2W2GCFSOG2KOGEUHRXHSG EXPORT_FEATURES: Testing Export (COMPLETED)>,\n",
            " <Task 2JXMHRD4JDPD6HFZL7S3X4TK EXPORT_FEATURES: Training Export (COMPLETED)>,\n",
            " <Task BDSR7A36LAZ7FPK4QTD5GHGE EXPORT_IMAGE: L8_Export-LC08_119036_20210607 (FAILED)>,\n",
            " <Task KJYE6LLKPYCNTMSOYBHJTUW7 EXPORT_IMAGE: L8_Export-LC08_119036_20210623 (COMPLETED)>,\n",
            " <Task SENGKINEH2DLWP3LDHMS5US6 EXPORT_IMAGE: Sentinel-NDVI (COMPLETED)>,\n",
            " <Task L5ZFVKFPCQL7NL5FSXRP7GAI EXPORT_IMAGE: Sentinel-DVI (COMPLETED)>,\n",
            " <Task A2QX4TE4E5KRALXTM5Q4BNZW EXPORT_IMAGE: Sentinel-DVI (FAILED)>,\n",
            " <Task OAMYEIGWWG44XPN2KJX3DOWF EXPORT_IMAGE: Sentinel-DVI (FAILED)>,\n",
            " <Task PY4Q5WG7CUIVBUT2FQQ4NMCD EXPORT_FEATURES: image_sample_demo_shp (COMPLETED)>,\n",
            " <Task 3AOEYJJJSNAGQBOWD7ULBPQU EXPORT_FEATURES: image_sample_demo_prop_subset (COMPLETED)>,\n",
            " <Task XUZW3B27TKNUOUUJKTSLIWWA EXPORT_FEATURES: image_sample_demo_csv (COMPLETED)>]\n"
          ]
        }
      ]
    },
    {
      "cell_type": "code",
      "source": [
        "# 30s查询一次导出任务是否完成\n",
        "import time\n",
        "while image_task.active():\n",
        "  print('正在执行任务 (id: {}).'.format(image_task.id))\n",
        "  time.sleep(30)\n",
        "print('导出完成')"
      ],
      "metadata": {
        "colab": {
          "base_uri": "https://localhost:8080/"
        },
        "id": "IiX0_Z9nvDG0",
        "outputId": "59b6642d-a906-4487-a74b-b31bb1d66726"
      },
      "execution_count": 17,
      "outputs": [
        {
          "output_type": "stream",
          "name": "stdout",
          "text": [
            "正在执行任务 (id: A4XVDZI3RH4N36IFPZ7WYPMY).\n",
            "正在执行任务 (id: A4XVDZI3RH4N36IFPZ7WYPMY).\n",
            "正在执行任务 (id: A4XVDZI3RH4N36IFPZ7WYPMY).\n",
            "正在执行任务 (id: A4XVDZI3RH4N36IFPZ7WYPMY).\n",
            "导出完成\n"
          ]
        }
      ]
    },
    {
      "cell_type": "markdown",
      "source": [
        "数据准备和预处理\n",
        "将 TFRecord 文件中的数据读取到tf.data.Dataset. 预处理数据集，使其成为适合模型输入的格式。"
      ],
      "metadata": {
        "id": "6Cr_Xu8EvU4k"
      }
    },
    {
      "cell_type": "code",
      "source": [
        "# 从云存储读取TF文件\n",
        "train_dataset = tf.data.TFRecordDataset(TRAIN_FILE_PATH, compression_type='GZIP')\n",
        "# 打印数据集\n",
        "print(iter(train_dataset).next())"
      ],
      "metadata": {
        "colab": {
          "base_uri": "https://localhost:8080/"
        },
        "id": "ySbO07NMvaqq",
        "outputId": "fc5aaca8-5c71-49f1-cf9d-1c9167849112"
      },
      "execution_count": 18,
      "outputs": [
        {
          "output_type": "stream",
          "name": "stdout",
          "text": [
            "tf.Tensor(b'\\nw\\n\\x0e\\n\\x02B2\\x12\\x08\\x12\\x06\\n\\x04\\xab\\xcfU=\\n\\x0e\\n\\x02B3\\x12\\x08\\x12\\x06\\n\\x04$(~=\\n\\x0e\\n\\x02B4\\x12\\x08\\x12\\x06\\n\\x04\\xe2\\xe9\\x15=\\n\\x0e\\n\\x02B5\\x12\\x08\\x12\\x06\\n\\x04\\x11\\xc7:<\\n\\x0e\\n\\x02B6\\x12\\x08\\x12\\x06\\n\\x04\\x89\\xd2\\xde;\\n\\x0e\\n\\x02B7\\x12\\x08\\x12\\x06\\n\\x041\\x08\\xac;\\n\\x15\\n\\tlandcover\\x12\\x08\\x12\\x06\\n\\x04\\x00\\x00\\x00@', shape=(), dtype=string)\n"
          ]
        }
      ]
    },
    {
      "cell_type": "markdown",
      "source": [
        "定义数据结构"
      ],
      "metadata": {
        "id": "U7-AEpI4vxFS"
      }
    },
    {
      "cell_type": "code",
      "source": [
        "# 结构\n",
        "columns = [\n",
        "  tf.io.FixedLenFeature(shape=[1], dtype=tf.float32) for k in FEATURE_NAMES\n",
        "]\n",
        "\n",
        "# 字典\n",
        "features_dict = dict(zip(FEATURE_NAMES, columns))\n",
        "\n",
        "pprint(features_dict)"
      ],
      "metadata": {
        "colab": {
          "base_uri": "https://localhost:8080/"
        },
        "id": "FGR669mrv9mR",
        "outputId": "42daf504-f509-41cd-b121-e0714d77cfe8"
      },
      "execution_count": 20,
      "outputs": [
        {
          "output_type": "stream",
          "name": "stdout",
          "text": [
            "{'B2': FixedLenFeature(shape=[1], dtype=tf.float32, default_value=None),\n",
            " 'B3': FixedLenFeature(shape=[1], dtype=tf.float32, default_value=None),\n",
            " 'B4': FixedLenFeature(shape=[1], dtype=tf.float32, default_value=None),\n",
            " 'B5': FixedLenFeature(shape=[1], dtype=tf.float32, default_value=None),\n",
            " 'B6': FixedLenFeature(shape=[1], dtype=tf.float32, default_value=None),\n",
            " 'B7': FixedLenFeature(shape=[1], dtype=tf.float32, default_value=None),\n",
            " 'landcover': FixedLenFeature(shape=[1], dtype=tf.float32, default_value=None)}\n"
          ]
        }
      ]
    },
    {
      "cell_type": "markdown",
      "source": [
        "解析数据集"
      ],
      "metadata": {
        "id": "bHtKINAqwOhb"
      }
    },
    {
      "cell_type": "code",
      "source": [
        "def parse_tfrecord(example_proto):\n",
        "  parsed_features = tf.io.parse_single_example(example_proto, features_dict)\n",
        "  labels = parsed_features.pop(LABEL)\n",
        "  return parsed_features, tf.cast(labels, tf.int32)\n",
        "\n",
        "\n",
        "parsed_dataset = train_dataset.map(parse_tfrecord, num_parallel_calls=5)\n",
        "pprint(iter(parsed_dataset).next())"
      ],
      "metadata": {
        "colab": {
          "base_uri": "https://localhost:8080/"
        },
        "id": "YbkhFQgNwVfh",
        "outputId": "855882f6-d993-4919-c36b-da4605ccfa5a"
      },
      "execution_count": 21,
      "outputs": [
        {
          "output_type": "stream",
          "name": "stdout",
          "text": [
            "({'B2': <tf.Tensor: shape=(1,), dtype=float32, numpy=array([0.0522], dtype=float32)>,\n",
            "  'B3': <tf.Tensor: shape=(1,), dtype=float32, numpy=array([0.06205], dtype=float32)>,\n",
            "  'B4': <tf.Tensor: shape=(1,), dtype=float32, numpy=array([0.0366], dtype=float32)>,\n",
            "  'B5': <tf.Tensor: shape=(1,), dtype=float32, numpy=array([0.0114], dtype=float32)>,\n",
            "  'B6': <tf.Tensor: shape=(1,), dtype=float32, numpy=array([0.0068], dtype=float32)>,\n",
            "  'B7': <tf.Tensor: shape=(1,), dtype=float32, numpy=array([0.00525], dtype=float32)>},\n",
            " <tf.Tensor: shape=(1,), dtype=int32, numpy=array([2], dtype=int32)>)\n"
          ]
        }
      ]
    },
    {
      "cell_type": "markdown",
      "source": [
        "创建附加功能"
      ],
      "metadata": {
        "id": "f-0ppL4Bws2l"
      }
    },
    {
      "cell_type": "code",
      "source": [
        "def normalized_difference(a, b):\n",
        "  nd = (a - b) / (a + b)\n",
        "  nd_inf = (a - b) / (a + b + 0.000001)\n",
        "  return tf.where(tf.math.is_finite(nd), nd, nd_inf)\n",
        "\n",
        "def add_NDVI(features, label):\n",
        "  features['NDVI'] = normalized_difference(features['B5'], features['B4'])\n",
        "  return features, label"
      ],
      "metadata": {
        "id": "susRAyoXw1B-"
      },
      "execution_count": 22,
      "outputs": []
    },
    {
      "cell_type": "markdown",
      "source": [
        "模型设置\n",
        "创建Keras模型"
      ],
      "metadata": {
        "id": "Ib2MgQS7xDQZ"
      }
    },
    {
      "cell_type": "code",
      "source": [
        "from tensorflow import keras\n",
        "\n",
        "input_dataset = parsed_dataset.map(add_NDVI)\n",
        "\n",
        "def to_tuple(inputs, label):\n",
        "  return (tf.transpose(list(inputs.values())),\n",
        "          tf.one_hot(indices=label, depth=N_CLASSES))\n",
        "# 每批次给8个数据\n",
        "input_dataset = input_dataset.map(to_tuple).batch(8)\n",
        "\n",
        "# 模型\n",
        "model = tf.keras.models.Sequential([\n",
        "  tf.keras.layers.Dense(64, activation=tf.nn.relu),\n",
        "  tf.keras.layers.Dropout(0.2),\n",
        "  tf.keras.layers.Dense(N_CLASSES, activation=tf.nn.softmax)\n",
        "])\n",
        "\n",
        "# 编译模型\n",
        "model.compile(optimizer=tf.keras.optimizers.Adam(),\n",
        "              loss='categorical_crossentropy',\n",
        "              metrics=['accuracy'])\n",
        "\n",
        "# 训练模型\n",
        "model.fit(x=input_dataset, epochs=10)"
      ],
      "metadata": {
        "colab": {
          "base_uri": "https://localhost:8080/"
        },
        "id": "qnGbP7oLxJGm",
        "outputId": "2cea74bc-ae0d-43ea-cafe-3f990d36ecf8"
      },
      "execution_count": 23,
      "outputs": [
        {
          "output_type": "stream",
          "name": "stdout",
          "text": [
            "Epoch 1/10\n",
            "9/9 [==============================] - 2s 11ms/step - loss: 1.0711 - accuracy: 0.5139\n",
            "Epoch 2/10\n",
            "9/9 [==============================] - 0s 4ms/step - loss: 1.0174 - accuracy: 0.8194\n",
            "Epoch 3/10\n",
            "9/9 [==============================] - 0s 10ms/step - loss: 0.9756 - accuracy: 0.9167\n",
            "Epoch 4/10\n",
            "9/9 [==============================] - 0s 6ms/step - loss: 0.9376 - accuracy: 0.8889\n",
            "Epoch 5/10\n",
            "9/9 [==============================] - 0s 8ms/step - loss: 0.8941 - accuracy: 0.9722\n",
            "Epoch 6/10\n",
            "9/9 [==============================] - 0s 8ms/step - loss: 0.8514 - accuracy: 0.9444\n",
            "Epoch 7/10\n",
            "9/9 [==============================] - 0s 5ms/step - loss: 0.8316 - accuracy: 0.9444\n",
            "Epoch 8/10\n",
            "9/9 [==============================] - 0s 4ms/step - loss: 0.7912 - accuracy: 0.9028\n",
            "Epoch 9/10\n",
            "9/9 [==============================] - 0s 8ms/step - loss: 0.7438 - accuracy: 0.9583\n",
            "Epoch 10/10\n",
            "9/9 [==============================] - 0s 5ms/step - loss: 0.7289 - accuracy: 0.9583\n"
          ]
        },
        {
          "output_type": "execute_result",
          "data": {
            "text/plain": [
              "<keras.callbacks.History at 0x7fa2ce4b3790>"
            ]
          },
          "metadata": {},
          "execution_count": 23
        }
      ]
    },
    {
      "cell_type": "markdown",
      "source": [
        "检查模型准确性"
      ],
      "metadata": {
        "id": "CJCWtL0ZxjAi"
      }
    },
    {
      "cell_type": "code",
      "source": [
        "test_dataset = (\n",
        "  tf.data.TFRecordDataset(TEST_FILE_PATH, compression_type='GZIP')\n",
        "    .map(parse_tfrecord, num_parallel_calls=5)\n",
        "    .map(add_NDVI)\n",
        "    .map(to_tuple)\n",
        "    .batch(1))\n",
        "\n",
        "model.evaluate(test_dataset)"
      ],
      "metadata": {
        "colab": {
          "base_uri": "https://localhost:8080/"
        },
        "id": "F6kNOUU4xrBQ",
        "outputId": "ac611a35-5c20-4f4d-a488-f5eafe8bbdd3"
      },
      "execution_count": 24,
      "outputs": [
        {
          "output_type": "stream",
          "name": "stdout",
          "text": [
            "26/26 [==============================] - 1s 2ms/step - loss: 0.7068 - accuracy: 1.0000\n"
          ]
        },
        {
          "output_type": "execute_result",
          "data": {
            "text/plain": [
              "[0.7067586183547974, 1.0]"
            ]
          },
          "metadata": {},
          "execution_count": 24
        }
      ]
    },
    {
      "cell_type": "markdown",
      "source": [
        "使用训练好的模型对GEE图像进行分类\n",
        "在 Cloud Storage 中查找图像文件和 JSON 混合器文件"
      ],
      "metadata": {
        "id": "I0enlHv1xuCy"
      }
    },
    {
      "cell_type": "code",
      "source": [
        "# 文件列表\n",
        "files_list = !gsutil ls 'gs://'{OUTPUT_BUCKET}\n",
        "# 第一个文件\n",
        "exported_files_list = [s for s in files_list if IMAGE_FILE_PREFIX in s]\n",
        "\n",
        "# 得到第一个影像和JSON混合文件\n",
        "image_files_list = []\n",
        "json_file = None\n",
        "for f in exported_files_list:\n",
        "  if f.endswith('.tfrecord.gz'):\n",
        "    image_files_list.append(f)\n",
        "  elif f.endswith('.json'):\n",
        "    json_file = f\n",
        "\n",
        "image_files_list.sort()\n",
        "\n",
        "pprint(image_files_list)\n",
        "print(json_file)"
      ],
      "metadata": {
        "colab": {
          "base_uri": "https://localhost:8080/"
        },
        "id": "t1hApqs4yC8o",
        "outputId": "87f1fe13-c76a-4740-e11e-62c13687b791"
      },
      "execution_count": 25,
      "outputs": [
        {
          "output_type": "stream",
          "name": "stdout",
          "text": [
            "['gs://swtswt/Image_pixel_demo_00000.tfrecord.gz',\n",
            " 'gs://swtswt/Image_pixel_demo_00001.tfrecord.gz']\n",
            "gs://swtswt/Image_pixel_demo_mixer.json\n"
          ]
        }
      ]
    },
    {
      "cell_type": "markdown",
      "source": [
        "读取JSON文件"
      ],
      "metadata": {
        "id": "pJn_OrN6zWJi"
      }
    },
    {
      "cell_type": "code",
      "source": [
        "# 从json读取影像信息\n",
        "import json\n",
        "json_text = !gsutil cat {json_file}\n",
        "mixer = json.loads(json_text.nlstr)\n",
        "pprint(mixer)"
      ],
      "metadata": {
        "colab": {
          "base_uri": "https://localhost:8080/"
        },
        "id": "ezfXJTxOzZBu",
        "outputId": "fef2e8da-cf9f-4b62-c4a4-9b921ff2a69a"
      },
      "execution_count": 27,
      "outputs": [
        {
          "output_type": "stream",
          "name": "stdout",
          "text": [
            "{'patchDimensions': [256, 256],\n",
            " 'patchesPerRow': 13,\n",
            " 'projection': {'affine': {'doubleMatrix': [0.00026949458523585647,\n",
            "                                            0.0,\n",
            "                                            -122.70007617412975,\n",
            "                                            0.0,\n",
            "                                            -0.00026949458523585647,\n",
            "                                            38.00089247493765]},\n",
            "                'crs': 'EPSG:4326'},\n",
            " 'totalPatches': 130}\n"
          ]
        }
      ]
    },
    {
      "cell_type": "markdown",
      "source": [
        "把影像读取到数据集"
      ],
      "metadata": {
        "id": "wXNHR9iwzu7O"
      }
    },
    {
      "cell_type": "code",
      "source": [
        "# 从JSON得到相关信息\n",
        "patch_width = mixer['patchDimensions'][0]\n",
        "patch_height = mixer['patchDimensions'][1]\n",
        "patches = mixer['totalPatches']\n",
        "patch_dimensions_flat = [patch_width * patch_height, 1]\n",
        "\n",
        "image_columns = [\n",
        "  tf.io.FixedLenFeature(shape=patch_dimensions_flat, dtype=tf.float32) \n",
        "    for k in BANDS\n",
        "]\n",
        "\n",
        "# 解析字典\n",
        "image_features_dict = dict(zip(BANDS, image_columns))\n",
        "\n",
        "# 把列表制作成数据集\n",
        "image_dataset = tf.data.TFRecordDataset(image_files_list, compression_type='GZIP')\n",
        "\n",
        "# 解析函数\n",
        "def parse_image(example_proto):\n",
        "  return tf.io.parse_single_example(example_proto, image_features_dict)\n",
        "\n",
        "# 把数据解析为张量\n",
        "image_dataset = image_dataset.map(parse_image, num_parallel_calls=5)\n",
        "\n",
        "# 把大张量解析为小张量\n",
        "image_dataset = image_dataset.flat_map(\n",
        "  lambda features: tf.data.Dataset.from_tensor_slices(features)\n",
        ")\n",
        "\n",
        "# 增加NDVI\n",
        "image_dataset = image_dataset.map(\n",
        "  # 增加NDVI，但没有标签\n",
        "  lambda features: add_NDVI(features, None)[0]\n",
        ")\n",
        "\n",
        "\n",
        "image_dataset = image_dataset.map(\n",
        "  lambda data_dict: (tf.transpose(list(data_dict.values())), )\n",
        ")\n",
        "\n",
        "# 把数据装入批次\n",
        "image_dataset = image_dataset.batch(patch_width * patch_height)"
      ],
      "metadata": {
        "id": "9YOLBmEQzyS0"
      },
      "execution_count": 28,
      "outputs": []
    },
    {
      "cell_type": "markdown",
      "source": [
        "为每个像素进行预测，输出三个类别的概率"
      ],
      "metadata": {
        "id": "MGr8AWi01J8G"
      }
    },
    {
      "cell_type": "code",
      "source": [
        "# 预测需要一些时间\n",
        "predictions = model.predict(image_dataset, steps=patches, verbose=1)\n",
        "\n",
        "# 打印第一个\n",
        "print(predictions[0])"
      ],
      "metadata": {
        "colab": {
          "base_uri": "https://localhost:8080/"
        },
        "id": "U8gJWOV11PKK",
        "outputId": "6de2aa1a-bec3-42a0-99ee-3307236af90a"
      },
      "execution_count": 29,
      "outputs": [
        {
          "output_type": "stream",
          "name": "stdout",
          "text": [
            "130/130 [==============================] - 633s 5s/step\n",
            "[[0.28799987 0.53123534 0.1807647 ]]\n"
          ]
        }
      ]
    },
    {
      "cell_type": "markdown",
      "source": [
        "预测结果写入TF文件，类和概率"
      ],
      "metadata": {
        "id": "gjUyJisu1pnE"
      }
    },
    {
      "cell_type": "code",
      "source": [
        "print('Writing to file ' + OUTPUT_IMAGE_FILE)"
      ],
      "metadata": {
        "id": "YtZvuEms13Nl"
      },
      "execution_count": null,
      "outputs": []
    },
    {
      "cell_type": "code",
      "source": [
        "# 实例化写入函数\n",
        "writer = tf.io.TFRecordWriter(OUTPUT_IMAGE_FILE)\n",
        "\n",
        "\n",
        "patch = [[], [], [], []]\n",
        "cur_patch = 1\n",
        "for prediction in predictions:\n",
        "  patch[0].append(tf.argmax(prediction, 1))\n",
        "  patch[1].append(prediction[0][0])\n",
        "  patch[2].append(prediction[0][1])\n",
        "  patch[3].append(prediction[0][2])\n",
        "  \n",
        "  if (len(patch[0]) == patch_width * patch_height):\n",
        "    print('Done with patch ' + str(cur_patch) + ' of ' + str(patches) + '...')\n",
        "    # 创建一个案例\n",
        "    example = tf.train.Example(\n",
        "      features=tf.train.Features(\n",
        "        feature={\n",
        "          'prediction': tf.train.Feature(\n",
        "              int64_list=tf.train.Int64List(\n",
        "                  value=patch[0])),\n",
        "          'bareProb': tf.train.Feature(\n",
        "              float_list=tf.train.FloatList(\n",
        "                  value=patch[1])),\n",
        "          'vegProb': tf.train.Feature(\n",
        "              float_list=tf.train.FloatList(\n",
        "                  value=patch[2])),\n",
        "          'waterProb': tf.train.Feature(\n",
        "              float_list=tf.train.FloatList(\n",
        "                  value=patch[3])),\n",
        "        }\n",
        "      )\n",
        "    )\n",
        "    \n",
        "    writer.write(example.SerializeToString())\n",
        "    patch = [[], [], [], []]\n",
        "    cur_patch += 1\n",
        "\n",
        "writer.close()"
      ],
      "metadata": {
        "id": "kDK2qlmJ16QF"
      },
      "execution_count": null,
      "outputs": []
    },
    {
      "cell_type": "markdown",
      "source": [
        "将分类结果上传到GEE资产\n",
        "验证预测文件是否存在"
      ],
      "metadata": {
        "id": "zsoFA64K2VbU"
      }
    },
    {
      "cell_type": "code",
      "source": [
        "!gsutil ls -l {OUTPUT_IMAGE_FILE}"
      ],
      "metadata": {
        "id": "PMy-2lCn2d55"
      },
      "execution_count": null,
      "outputs": []
    },
    {
      "cell_type": "code",
      "source": [
        "print('Uploading to ' + OUTPUT_ASSET_ID)"
      ],
      "metadata": {
        "id": "OLbOWZLD2qdT"
      },
      "execution_count": null,
      "outputs": []
    },
    {
      "cell_type": "code",
      "source": [
        "# 开始上传\n",
        "!earthengine upload image --asset_id={OUTPUT_ASSET_ID} --pyramiding_policy=mode {OUTPUT_IMAGE_FILE} {json_file}"
      ],
      "metadata": {
        "id": "U1PnCNoB2rhZ"
      },
      "execution_count": null,
      "outputs": []
    },
    {
      "cell_type": "markdown",
      "source": [
        "检查资产获取状态"
      ],
      "metadata": {
        "id": "LfrGIqAU2xIG"
      }
    },
    {
      "cell_type": "code",
      "source": [
        "ee.batch.Task.list()"
      ],
      "metadata": {
        "id": "wiV73XFZ24RH"
      },
      "execution_count": null,
      "outputs": []
    },
    {
      "cell_type": "markdown",
      "source": [
        "检查上传的资产\n",
        "将类别概率向量显示为 RGB 图像，其颜色对应于像素中裸露、植被、水的概率。还使用相同的调色板显示获奖班级。"
      ],
      "metadata": {
        "id": "5HgPgpZv28_f"
      }
    },
    {
      "cell_type": "code",
      "source": [
        "predictions_image = ee.Image(OUTPUT_ASSET_ID)\n",
        "\n",
        "prediction_vis = {\n",
        "  'bands': 'prediction',\n",
        "  'min': 0,\n",
        "  'max': 2,\n",
        "  'palette': ['red', 'green', 'blue']\n",
        "}\n",
        "probability_vis = {'bands': ['bareProb', 'vegProb', 'waterProb'], 'max': 0.5}\n",
        "\n",
        "prediction_map_id = predictions_image.getMapId(prediction_vis)\n",
        "probability_map_id = predictions_image.getMapId(probability_vis)\n",
        "\n",
        "map = folium.Map(location=[37.6413, -122.2582])\n",
        "folium.TileLayer(\n",
        "  tiles=prediction_map_id['tile_fetcher'].url_format,\n",
        "  attr='Map Data &copy; <a href=\"https://earthengine.google.com/\">Google Earth Engine</a>',\n",
        "  overlay=True,\n",
        "  name='prediction',\n",
        ").add_to(map)\n",
        "folium.TileLayer(\n",
        "  tiles=probability_map_id['tile_fetcher'].url_format,\n",
        "  attr='Map Data &copy; <a href=\"https://earthengine.google.com/\">Google Earth Engine</a>',\n",
        "  overlay=True,\n",
        "  name='probability',\n",
        ").add_to(map)\n",
        "map.add_child(folium.LayerControl())\n",
        "map"
      ],
      "metadata": {
        "id": "R0ANxMFU3D2A"
      },
      "execution_count": null,
      "outputs": []
    },
    {
      "cell_type": "markdown",
      "source": [
        "这个案例非常好，要仔细研究一下"
      ],
      "metadata": {
        "id": "tbYKQmYz3Nm1"
      }
    }
  ]
}